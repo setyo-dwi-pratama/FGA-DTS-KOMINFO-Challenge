{
  "nbformat": 4,
  "nbformat_minor": 0,
  "metadata": {
    "colab": {
      "name": "TorontoBikeshareData.ipynb",
      "provenance": [],
      "authorship_tag": "ABX9TyPw4y5bRGTBANbM8nfElSnn",
      "include_colab_link": true
    },
    "kernelspec": {
      "name": "python3",
      "display_name": "Python 3"
    },
    "accelerator": "GPU"
  },
  "cells": [
    {
      "cell_type": "markdown",
      "metadata": {
        "id": "view-in-github",
        "colab_type": "text"
      },
      "source": [
        "<a href=\"https://colab.research.google.com/github/setyo-dwi-pratama/FGA-DTS-KOMINFO-Challenge/blob/main/TorontoBikeshareData.ipynb\" target=\"_parent\"><img src=\"https://colab.research.google.com/assets/colab-badge.svg\" alt=\"Open In Colab\"/></a>"
      ]
    },
    {
      "cell_type": "markdown",
      "metadata": {
        "id": "THQqwZJLDe8v"
      },
      "source": [
        "# **Toronto Bikeshare Data**\n",
        "\n",
        "**Deskripsi**\n",
        "\n",
        "The Bike Share Toronto Ridership data contains anonymized trip data, including:\n",
        "\n",
        "Trip start day and time, Trip end day and time, Trip duration, Trip start station, Trip end station, User type"
      ]
    },
    {
      "cell_type": "markdown",
      "metadata": {
        "id": "NNE0XCNCDxG9"
      },
      "source": [
        "# **Packages**"
      ]
    },
    {
      "cell_type": "code",
      "metadata": {
        "id": "N2RmtMBGDuC6"
      },
      "source": [
        "import pandas as pd\n",
        "import numpy as np\n",
        "import matplotlib.pyplot as plt\n",
        "import seaborn as sns\n",
        "import json\n",
        "import requests\n",
        "import urllib3\n",
        "from urllib3 import request\n",
        "import certifi\n",
        "import datetime\n",
        "from pandas.io.json import json_normalize\n",
        "import networkx as nx"
      ],
      "execution_count": 156,
      "outputs": []
    },
    {
      "cell_type": "markdown",
      "metadata": {
        "id": "QqoC3yVgD2jZ"
      },
      "source": [
        "# **Dataset**\n",
        "\n",
        "*https://www.kaggle.com/jackywang529/toronto-bikeshare-data?*"
      ]
    },
    {
      "cell_type": "code",
      "metadata": {
        "id": "Ag36Scl5gqhG",
        "outputId": "321b7679-a592-448c-c3d8-ba7e04336298",
        "colab": {
          "base_uri": "https://localhost:8080/",
          "height": 33
        }
      },
      "source": [
        "from zipfile import ZipFile\n",
        "file_name = \"archive.zip\"\n",
        "\n",
        "with ZipFile(file_name, 'r') as zip:\n",
        "  zip.extractall()\n",
        "  print('Sukses')"
      ],
      "execution_count": 157,
      "outputs": [
        {
          "output_type": "stream",
          "text": [
            "Sukses\n"
          ],
          "name": "stdout"
        }
      ]
    },
    {
      "cell_type": "code",
      "metadata": {
        "id": "cM5jCD2dizRR"
      },
      "source": [
        "# Akses Data 2017\n",
        "q1_2017 = pd.read_csv('bikeshare-ridership-2017/2017 Data/Bikeshare Ridership (2017 Q1).csv')\n",
        "q2_2017 = pd.read_csv('bikeshare-ridership-2017/2017 Data/Bikeshare Ridership (2017 Q2).csv')\n",
        "q3_2017 = pd.read_csv('bikeshare-ridership-2017/2017 Data/Bikeshare Ridership (2017 Q3).csv')\n",
        "q4_2017 = pd.read_csv('bikeshare-ridership-2017/2017 Data/Bikeshare Ridership (2017 Q4).csv')\n",
        "q1_2017['trip_start_time'] = pd.to_datetime(q1_2017['trip_start_time'])\n",
        "q2_2017['trip_start_time'] = pd.to_datetime(q1_2017['trip_start_time'])\n",
        "q3_2017['trip_start_time'] = pd.to_datetime(q1_2017['trip_start_time'])\n",
        "q4_2017['trip_start_time'] = pd.to_datetime(q1_2017['trip_start_time'])\n",
        "q1_2017['trip_stop_time'] = pd.to_datetime(q1_2017['trip_stop_time'])\n",
        "q2_2017['trip_stop_time'] = pd.to_datetime(q1_2017['trip_stop_time'])\n",
        "q3_2017['trip_stop_time'] = pd.to_datetime(q1_2017['trip_stop_time'])\n",
        "q4_2017['trip_stop_time'] = pd.to_datetime(q1_2017['trip_stop_time'])"
      ],
      "execution_count": 158,
      "outputs": []
    },
    {
      "cell_type": "code",
      "metadata": {
        "id": "UGFmgWJglSLN"
      },
      "source": [
        "# Akses Data 2018\n",
        "q1_2018 = pd.read_csv('bikeshare2018/bikeshare2018/Bike Share Toronto Ridership_Q1 2018.csv')\n",
        "q2_2018 = pd.read_csv('bikeshare2018/bikeshare2018/Bike Share Toronto Ridership_Q2 2018.csv')\n",
        "q3_2018 = pd.read_csv('bikeshare2018/bikeshare2018/Bike Share Toronto Ridership_Q3 2018.csv')\n",
        "q4_2018 = pd.read_csv('bikeshare2018/bikeshare2018/Bike Share Toronto Ridership_Q4 2018.csv')\n",
        "q1_2018['trip_start_time'] = pd.to_datetime(q1_2018['trip_start_time'])\n",
        "q2_2018['trip_start_time'] = pd.to_datetime(q1_2018['trip_start_time'])\n",
        "q3_2018['trip_start_time'] = pd.to_datetime(q1_2018['trip_start_time'])\n",
        "q4_2018['trip_start_time'] = pd.to_datetime(q1_2018['trip_start_time'])\n",
        "q1_2018['trip_stop_time'] = pd.to_datetime(q1_2018['trip_stop_time'])\n",
        "q2_2018['trip_stop_time'] = pd.to_datetime(q1_2018['trip_stop_time'])\n",
        "q3_2018['trip_stop_time'] = pd.to_datetime(q1_2018['trip_stop_time'])\n",
        "q4_2018['trip_stop_time'] = pd.to_datetime(q1_2018['trip_stop_time'])"
      ],
      "execution_count": 159,
      "outputs": []
    },
    {
      "cell_type": "code",
      "metadata": {
        "id": "d_76-cONnv3y",
        "outputId": "f00cd091-ca7e-436d-980f-54c1407a654f",
        "colab": {
          "base_uri": "https://localhost:8080/",
          "height": 272
        }
      },
      "source": [
        "# Menggabungkan dataset 2017\n",
        "toronto2017 = [q1_2017, q2_2017, q3_2017, q4_2017]\n",
        "bike2017 = pd.concat(toronto2017)\n",
        "bike2017.head()"
      ],
      "execution_count": 160,
      "outputs": [
        {
          "output_type": "execute_result",
          "data": {
            "text/html": [
              "<div>\n",
              "<style scoped>\n",
              "    .dataframe tbody tr th:only-of-type {\n",
              "        vertical-align: middle;\n",
              "    }\n",
              "\n",
              "    .dataframe tbody tr th {\n",
              "        vertical-align: top;\n",
              "    }\n",
              "\n",
              "    .dataframe thead th {\n",
              "        text-align: right;\n",
              "    }\n",
              "</style>\n",
              "<table border=\"1\" class=\"dataframe\">\n",
              "  <thead>\n",
              "    <tr style=\"text-align: right;\">\n",
              "      <th></th>\n",
              "      <th>trip_id</th>\n",
              "      <th>trip_start_time</th>\n",
              "      <th>trip_stop_time</th>\n",
              "      <th>trip_duration_seconds</th>\n",
              "      <th>from_station_id</th>\n",
              "      <th>from_station_name</th>\n",
              "      <th>to_station_id</th>\n",
              "      <th>to_station_name</th>\n",
              "      <th>user_type</th>\n",
              "    </tr>\n",
              "  </thead>\n",
              "  <tbody>\n",
              "    <tr>\n",
              "      <th>0</th>\n",
              "      <td>712382</td>\n",
              "      <td>2017-01-01 00:00:00</td>\n",
              "      <td>2017-01-01 00:03:00</td>\n",
              "      <td>223</td>\n",
              "      <td>7051.0</td>\n",
              "      <td>Wellesley St E / Yonge St Green P</td>\n",
              "      <td>7089.0</td>\n",
              "      <td>Church St  / Wood St</td>\n",
              "      <td>Member</td>\n",
              "    </tr>\n",
              "    <tr>\n",
              "      <th>1</th>\n",
              "      <td>712383</td>\n",
              "      <td>2017-01-01 00:00:00</td>\n",
              "      <td>2017-01-01 00:05:00</td>\n",
              "      <td>279</td>\n",
              "      <td>7143.0</td>\n",
              "      <td>Kendal Ave / Bernard Ave</td>\n",
              "      <td>7154.0</td>\n",
              "      <td>Bathurst Subway Station</td>\n",
              "      <td>Member</td>\n",
              "    </tr>\n",
              "    <tr>\n",
              "      <th>2</th>\n",
              "      <td>712384</td>\n",
              "      <td>2017-01-01 00:05:00</td>\n",
              "      <td>2017-01-01 00:29:00</td>\n",
              "      <td>1394</td>\n",
              "      <td>7113.0</td>\n",
              "      <td>Parliament St / Aberdeen Ave</td>\n",
              "      <td>7199.0</td>\n",
              "      <td>College St W / Markham St</td>\n",
              "      <td>Member</td>\n",
              "    </tr>\n",
              "    <tr>\n",
              "      <th>3</th>\n",
              "      <td>712385</td>\n",
              "      <td>2017-01-01 00:07:00</td>\n",
              "      <td>2017-01-01 00:21:00</td>\n",
              "      <td>826</td>\n",
              "      <td>7077.0</td>\n",
              "      <td>College Park South</td>\n",
              "      <td>7010.0</td>\n",
              "      <td>King St W / Spadina Ave</td>\n",
              "      <td>Member</td>\n",
              "    </tr>\n",
              "    <tr>\n",
              "      <th>4</th>\n",
              "      <td>712386</td>\n",
              "      <td>2017-01-01 00:08:00</td>\n",
              "      <td>2017-01-01 00:12:00</td>\n",
              "      <td>279</td>\n",
              "      <td>7079.0</td>\n",
              "      <td>McGill St / Church St</td>\n",
              "      <td>7047.0</td>\n",
              "      <td>University Ave / Gerrard St W</td>\n",
              "      <td>Member</td>\n",
              "    </tr>\n",
              "  </tbody>\n",
              "</table>\n",
              "</div>"
            ],
            "text/plain": [
              "   trip_id     trip_start_time  ...                to_station_name  user_type\n",
              "0   712382 2017-01-01 00:00:00  ...           Church St  / Wood St     Member\n",
              "1   712383 2017-01-01 00:00:00  ...        Bathurst Subway Station     Member\n",
              "2   712384 2017-01-01 00:05:00  ...      College St W / Markham St     Member\n",
              "3   712385 2017-01-01 00:07:00  ...        King St W / Spadina Ave     Member\n",
              "4   712386 2017-01-01 00:08:00  ...  University Ave / Gerrard St W     Member\n",
              "\n",
              "[5 rows x 9 columns]"
            ]
          },
          "metadata": {
            "tags": []
          },
          "execution_count": 160
        }
      ]
    },
    {
      "cell_type": "code",
      "metadata": {
        "id": "6Jc0QfLWogju",
        "outputId": "ef589ddd-ac7e-425a-8fff-1c97d13c522b",
        "colab": {
          "base_uri": "https://localhost:8080/",
          "height": 277
        }
      },
      "source": [
        "bike2017.info()"
      ],
      "execution_count": 161,
      "outputs": [
        {
          "output_type": "stream",
          "text": [
            "<class 'pandas.core.frame.DataFrame'>\n",
            "Int64Index: 1492369 entries, 0 to 363404\n",
            "Data columns (total 9 columns):\n",
            " #   Column                 Non-Null Count    Dtype         \n",
            "---  ------                 --------------    -----         \n",
            " 0   trip_id                1492369 non-null  int64         \n",
            " 1   trip_start_time        528492 non-null   datetime64[ns]\n",
            " 2   trip_stop_time         528492 non-null   datetime64[ns]\n",
            " 3   trip_duration_seconds  1492369 non-null  int64         \n",
            " 4   from_station_id        465476 non-null   float64       \n",
            " 5   from_station_name      1492369 non-null  object        \n",
            " 6   to_station_id          465476 non-null   float64       \n",
            " 7   to_station_name        1492368 non-null  object        \n",
            " 8   user_type              1492369 non-null  object        \n",
            "dtypes: datetime64[ns](2), float64(2), int64(2), object(3)\n",
            "memory usage: 113.9+ MB\n"
          ],
          "name": "stdout"
        }
      ]
    },
    {
      "cell_type": "code",
      "metadata": {
        "id": "lv768M6kokig",
        "outputId": "4bd3eacb-5ef1-4869-f3f0-01b3b8c05384",
        "colab": {
          "base_uri": "https://localhost:8080/",
          "height": 272
        }
      },
      "source": [
        "# Menggabungkan dataset 2018\n",
        "toronto2018 = [q1_2018, q2_2018, q3_2018, q4_2018]\n",
        "bike2018 = pd.concat(toronto2018)\n",
        "bike2018.head()"
      ],
      "execution_count": 162,
      "outputs": [
        {
          "output_type": "execute_result",
          "data": {
            "text/html": [
              "<div>\n",
              "<style scoped>\n",
              "    .dataframe tbody tr th:only-of-type {\n",
              "        vertical-align: middle;\n",
              "    }\n",
              "\n",
              "    .dataframe tbody tr th {\n",
              "        vertical-align: top;\n",
              "    }\n",
              "\n",
              "    .dataframe thead th {\n",
              "        text-align: right;\n",
              "    }\n",
              "</style>\n",
              "<table border=\"1\" class=\"dataframe\">\n",
              "  <thead>\n",
              "    <tr style=\"text-align: right;\">\n",
              "      <th></th>\n",
              "      <th>trip_id</th>\n",
              "      <th>trip_duration_seconds</th>\n",
              "      <th>from_station_id</th>\n",
              "      <th>trip_start_time</th>\n",
              "      <th>from_station_name</th>\n",
              "      <th>trip_stop_time</th>\n",
              "      <th>to_station_id</th>\n",
              "      <th>to_station_name</th>\n",
              "      <th>user_type</th>\n",
              "    </tr>\n",
              "  </thead>\n",
              "  <tbody>\n",
              "    <tr>\n",
              "      <th>0</th>\n",
              "      <td>2383648</td>\n",
              "      <td>393</td>\n",
              "      <td>7018</td>\n",
              "      <td>2018-01-01 00:47:00</td>\n",
              "      <td>Bremner Blvd / Rees St</td>\n",
              "      <td>2018-01-01 00:54:00</td>\n",
              "      <td>7176</td>\n",
              "      <td>Bathurst St / Fort York Blvd</td>\n",
              "      <td>Annual Member</td>\n",
              "    </tr>\n",
              "    <tr>\n",
              "      <th>1</th>\n",
              "      <td>2383649</td>\n",
              "      <td>625</td>\n",
              "      <td>7184</td>\n",
              "      <td>2018-01-01 00:52:00</td>\n",
              "      <td>Ossington Ave / College St</td>\n",
              "      <td>2018-01-01 01:03:00</td>\n",
              "      <td>7191</td>\n",
              "      <td>Central Tech  (Harbord St)</td>\n",
              "      <td>Annual Member</td>\n",
              "    </tr>\n",
              "    <tr>\n",
              "      <th>2</th>\n",
              "      <td>2383650</td>\n",
              "      <td>233</td>\n",
              "      <td>7235</td>\n",
              "      <td>2018-01-01 00:55:00</td>\n",
              "      <td>Bay St / College St (West Side) - SMART</td>\n",
              "      <td>2018-01-01 00:59:00</td>\n",
              "      <td>7021</td>\n",
              "      <td>Bay St / Albert St</td>\n",
              "      <td>Annual Member</td>\n",
              "    </tr>\n",
              "    <tr>\n",
              "      <th>3</th>\n",
              "      <td>2383651</td>\n",
              "      <td>1138</td>\n",
              "      <td>7202</td>\n",
              "      <td>2018-01-01 00:57:00</td>\n",
              "      <td>Queen St W / York St (City Hall)</td>\n",
              "      <td>2018-01-01 01:16:00</td>\n",
              "      <td>7020</td>\n",
              "      <td>Phoebe St / Spadina Ave</td>\n",
              "      <td>Annual Member</td>\n",
              "    </tr>\n",
              "    <tr>\n",
              "      <th>4</th>\n",
              "      <td>2383652</td>\n",
              "      <td>703</td>\n",
              "      <td>7004</td>\n",
              "      <td>2018-01-01 01:00:00</td>\n",
              "      <td>University Ave / Elm St</td>\n",
              "      <td>2018-01-01 01:12:00</td>\n",
              "      <td>7060</td>\n",
              "      <td>Princess St / Adelaide St E</td>\n",
              "      <td>Annual Member</td>\n",
              "    </tr>\n",
              "  </tbody>\n",
              "</table>\n",
              "</div>"
            ],
            "text/plain": [
              "   trip_id  trip_duration_seconds  ...               to_station_name      user_type\n",
              "0  2383648                    393  ...  Bathurst St / Fort York Blvd  Annual Member\n",
              "1  2383649                    625  ...    Central Tech  (Harbord St)  Annual Member\n",
              "2  2383650                    233  ...            Bay St / Albert St  Annual Member\n",
              "3  2383651                   1138  ...       Phoebe St / Spadina Ave  Annual Member\n",
              "4  2383652                    703  ...   Princess St / Adelaide St E  Annual Member\n",
              "\n",
              "[5 rows x 9 columns]"
            ]
          },
          "metadata": {
            "tags": []
          },
          "execution_count": 162
        }
      ]
    },
    {
      "cell_type": "code",
      "metadata": {
        "id": "96ar0C1Vo4LG",
        "outputId": "df2baca5-8396-459c-8801-09eabbe0dfa8",
        "colab": {
          "base_uri": "https://localhost:8080/",
          "height": 277
        }
      },
      "source": [
        "bike2018.info()"
      ],
      "execution_count": 163,
      "outputs": [
        {
          "output_type": "stream",
          "text": [
            "<class 'pandas.core.frame.DataFrame'>\n",
            "Int64Index: 1922955 entries, 0 to 363489\n",
            "Data columns (total 9 columns):\n",
            " #   Column                 Dtype         \n",
            "---  ------                 -----         \n",
            " 0   trip_id                int64         \n",
            " 1   trip_duration_seconds  int64         \n",
            " 2   from_station_id        int64         \n",
            " 3   trip_start_time        datetime64[ns]\n",
            " 4   from_station_name      object        \n",
            " 5   trip_stop_time         datetime64[ns]\n",
            " 6   to_station_id          int64         \n",
            " 7   to_station_name        object        \n",
            " 8   user_type              object        \n",
            "dtypes: datetime64[ns](2), int64(4), object(3)\n",
            "memory usage: 146.7+ MB\n"
          ],
          "name": "stdout"
        }
      ]
    },
    {
      "cell_type": "markdown",
      "metadata": {
        "id": "cQnCGtQbr4Ht"
      },
      "source": [
        "# EDA Dataset 2017"
      ]
    },
    {
      "cell_type": "code",
      "metadata": {
        "id": "DO_Lt0xpwjCO",
        "outputId": "22f1f3b7-1cbd-4a5d-f048-3d7c0d2fe7a3",
        "colab": {
          "base_uri": "https://localhost:8080/",
          "height": 180
        }
      },
      "source": [
        "bike2017.isnull().sum()"
      ],
      "execution_count": 164,
      "outputs": [
        {
          "output_type": "execute_result",
          "data": {
            "text/plain": [
              "trip_id                        0\n",
              "trip_start_time           963877\n",
              "trip_stop_time            963877\n",
              "trip_duration_seconds          0\n",
              "from_station_id          1026893\n",
              "from_station_name              0\n",
              "to_station_id            1026893\n",
              "to_station_name                1\n",
              "user_type                      0\n",
              "dtype: int64"
            ]
          },
          "metadata": {
            "tags": []
          },
          "execution_count": 164
        }
      ]
    },
    {
      "cell_type": "markdown",
      "metadata": {
        "id": "AIAAOcolswEk"
      },
      "source": [
        "## Membuat kolom baru berdasarkan Jam, Hari dan Bulan"
      ]
    },
    {
      "cell_type": "code",
      "metadata": {
        "id": "Ygigl-Cxuvp7"
      },
      "source": [
        "bike2017['hour_start'] = bike2017['trip_start_time'].apply(lambda time: time.hour)"
      ],
      "execution_count": 165,
      "outputs": []
    },
    {
      "cell_type": "code",
      "metadata": {
        "id": "2NlBN4xlvA3o"
      },
      "source": [
        "bike2017['month_start'] = bike2017['trip_start_time'].apply(lambda time: time.month)"
      ],
      "execution_count": 166,
      "outputs": []
    },
    {
      "cell_type": "code",
      "metadata": {
        "id": "8XM7HA-JvLY4"
      },
      "source": [
        "bike2017['weekday_start'] = bike2017['trip_start_time'].apply(lambda time: time.dayofweek)"
      ],
      "execution_count": 167,
      "outputs": []
    },
    {
      "cell_type": "code",
      "metadata": {
        "id": "wInseQSUzADP"
      },
      "source": [
        "bike2017['hour_stop'] = bike2017['trip_stop_time'].apply(lambda time: time.hour)"
      ],
      "execution_count": 168,
      "outputs": []
    },
    {
      "cell_type": "code",
      "metadata": {
        "id": "_y1IxUi_zAZH"
      },
      "source": [
        "bike2017['month_stop'] = bike2017['trip_stop_time'].apply(lambda time: time.month)"
      ],
      "execution_count": 169,
      "outputs": []
    },
    {
      "cell_type": "code",
      "metadata": {
        "id": "x6OIC2UPzAgT"
      },
      "source": [
        "bike2017['weekday_stop'] = bike2017['trip_stop_time'].apply(lambda time: time.dayofweek)"
      ],
      "execution_count": 170,
      "outputs": []
    },
    {
      "cell_type": "code",
      "metadata": {
        "id": "0OQgR1r_uPhJ",
        "outputId": "8c66338a-805d-42e6-c3ab-30479217c5e5",
        "colab": {
          "base_uri": "https://localhost:8080/",
          "height": 573
        }
      },
      "source": [
        "bike2017"
      ],
      "execution_count": 171,
      "outputs": [
        {
          "output_type": "execute_result",
          "data": {
            "text/html": [
              "<div>\n",
              "<style scoped>\n",
              "    .dataframe tbody tr th:only-of-type {\n",
              "        vertical-align: middle;\n",
              "    }\n",
              "\n",
              "    .dataframe tbody tr th {\n",
              "        vertical-align: top;\n",
              "    }\n",
              "\n",
              "    .dataframe thead th {\n",
              "        text-align: right;\n",
              "    }\n",
              "</style>\n",
              "<table border=\"1\" class=\"dataframe\">\n",
              "  <thead>\n",
              "    <tr style=\"text-align: right;\">\n",
              "      <th></th>\n",
              "      <th>trip_id</th>\n",
              "      <th>trip_start_time</th>\n",
              "      <th>trip_stop_time</th>\n",
              "      <th>trip_duration_seconds</th>\n",
              "      <th>from_station_id</th>\n",
              "      <th>from_station_name</th>\n",
              "      <th>to_station_id</th>\n",
              "      <th>to_station_name</th>\n",
              "      <th>user_type</th>\n",
              "      <th>hour_start</th>\n",
              "      <th>month_start</th>\n",
              "      <th>weekday_start</th>\n",
              "      <th>hour_stop</th>\n",
              "      <th>month_stop</th>\n",
              "      <th>weekday_stop</th>\n",
              "    </tr>\n",
              "  </thead>\n",
              "  <tbody>\n",
              "    <tr>\n",
              "      <th>0</th>\n",
              "      <td>712382</td>\n",
              "      <td>2017-01-01 00:00:00</td>\n",
              "      <td>2017-01-01 00:03:00</td>\n",
              "      <td>223</td>\n",
              "      <td>7051.0</td>\n",
              "      <td>Wellesley St E / Yonge St Green P</td>\n",
              "      <td>7089.0</td>\n",
              "      <td>Church St  / Wood St</td>\n",
              "      <td>Member</td>\n",
              "      <td>0.0</td>\n",
              "      <td>1.0</td>\n",
              "      <td>6.0</td>\n",
              "      <td>0.0</td>\n",
              "      <td>1.0</td>\n",
              "      <td>6.0</td>\n",
              "    </tr>\n",
              "    <tr>\n",
              "      <th>1</th>\n",
              "      <td>712383</td>\n",
              "      <td>2017-01-01 00:00:00</td>\n",
              "      <td>2017-01-01 00:05:00</td>\n",
              "      <td>279</td>\n",
              "      <td>7143.0</td>\n",
              "      <td>Kendal Ave / Bernard Ave</td>\n",
              "      <td>7154.0</td>\n",
              "      <td>Bathurst Subway Station</td>\n",
              "      <td>Member</td>\n",
              "      <td>0.0</td>\n",
              "      <td>1.0</td>\n",
              "      <td>6.0</td>\n",
              "      <td>0.0</td>\n",
              "      <td>1.0</td>\n",
              "      <td>6.0</td>\n",
              "    </tr>\n",
              "    <tr>\n",
              "      <th>2</th>\n",
              "      <td>712384</td>\n",
              "      <td>2017-01-01 00:05:00</td>\n",
              "      <td>2017-01-01 00:29:00</td>\n",
              "      <td>1394</td>\n",
              "      <td>7113.0</td>\n",
              "      <td>Parliament St / Aberdeen Ave</td>\n",
              "      <td>7199.0</td>\n",
              "      <td>College St W / Markham St</td>\n",
              "      <td>Member</td>\n",
              "      <td>0.0</td>\n",
              "      <td>1.0</td>\n",
              "      <td>6.0</td>\n",
              "      <td>0.0</td>\n",
              "      <td>1.0</td>\n",
              "      <td>6.0</td>\n",
              "    </tr>\n",
              "    <tr>\n",
              "      <th>3</th>\n",
              "      <td>712385</td>\n",
              "      <td>2017-01-01 00:07:00</td>\n",
              "      <td>2017-01-01 00:21:00</td>\n",
              "      <td>826</td>\n",
              "      <td>7077.0</td>\n",
              "      <td>College Park South</td>\n",
              "      <td>7010.0</td>\n",
              "      <td>King St W / Spadina Ave</td>\n",
              "      <td>Member</td>\n",
              "      <td>0.0</td>\n",
              "      <td>1.0</td>\n",
              "      <td>6.0</td>\n",
              "      <td>0.0</td>\n",
              "      <td>1.0</td>\n",
              "      <td>6.0</td>\n",
              "    </tr>\n",
              "    <tr>\n",
              "      <th>4</th>\n",
              "      <td>712386</td>\n",
              "      <td>2017-01-01 00:08:00</td>\n",
              "      <td>2017-01-01 00:12:00</td>\n",
              "      <td>279</td>\n",
              "      <td>7079.0</td>\n",
              "      <td>McGill St / Church St</td>\n",
              "      <td>7047.0</td>\n",
              "      <td>University Ave / Gerrard St W</td>\n",
              "      <td>Member</td>\n",
              "      <td>0.0</td>\n",
              "      <td>1.0</td>\n",
              "      <td>6.0</td>\n",
              "      <td>0.0</td>\n",
              "      <td>1.0</td>\n",
              "      <td>6.0</td>\n",
              "    </tr>\n",
              "    <tr>\n",
              "      <th>...</th>\n",
              "      <td>...</td>\n",
              "      <td>...</td>\n",
              "      <td>...</td>\n",
              "      <td>...</td>\n",
              "      <td>...</td>\n",
              "      <td>...</td>\n",
              "      <td>...</td>\n",
              "      <td>...</td>\n",
              "      <td>...</td>\n",
              "      <td>...</td>\n",
              "      <td>...</td>\n",
              "      <td>...</td>\n",
              "      <td>...</td>\n",
              "      <td>...</td>\n",
              "      <td>...</td>\n",
              "    </tr>\n",
              "    <tr>\n",
              "      <th>363400</th>\n",
              "      <td>2383642</td>\n",
              "      <td>NaT</td>\n",
              "      <td>NaT</td>\n",
              "      <td>26</td>\n",
              "      <td>NaN</td>\n",
              "      <td>Bloor St / Brunswick Ave</td>\n",
              "      <td>NaN</td>\n",
              "      <td>Bloor St / Brunswick Ave</td>\n",
              "      <td>Casual</td>\n",
              "      <td>NaN</td>\n",
              "      <td>NaN</td>\n",
              "      <td>NaN</td>\n",
              "      <td>NaN</td>\n",
              "      <td>NaN</td>\n",
              "      <td>NaN</td>\n",
              "    </tr>\n",
              "    <tr>\n",
              "      <th>363401</th>\n",
              "      <td>2383643</td>\n",
              "      <td>NaT</td>\n",
              "      <td>NaT</td>\n",
              "      <td>1467</td>\n",
              "      <td>NaN</td>\n",
              "      <td>Bloor St / Brunswick Ave</td>\n",
              "      <td>NaN</td>\n",
              "      <td>HTO Park (Queens Quay W)</td>\n",
              "      <td>Casual</td>\n",
              "      <td>NaN</td>\n",
              "      <td>NaN</td>\n",
              "      <td>NaN</td>\n",
              "      <td>NaN</td>\n",
              "      <td>NaN</td>\n",
              "      <td>NaN</td>\n",
              "    </tr>\n",
              "    <tr>\n",
              "      <th>363402</th>\n",
              "      <td>2383644</td>\n",
              "      <td>NaT</td>\n",
              "      <td>NaT</td>\n",
              "      <td>609</td>\n",
              "      <td>NaN</td>\n",
              "      <td>Kendal Ave / Spadina Rd</td>\n",
              "      <td>NaN</td>\n",
              "      <td>Augusta Ave / Denison Sq</td>\n",
              "      <td>Member</td>\n",
              "      <td>NaN</td>\n",
              "      <td>NaN</td>\n",
              "      <td>NaN</td>\n",
              "      <td>NaN</td>\n",
              "      <td>NaN</td>\n",
              "      <td>NaN</td>\n",
              "    </tr>\n",
              "    <tr>\n",
              "      <th>363403</th>\n",
              "      <td>2383645</td>\n",
              "      <td>NaT</td>\n",
              "      <td>NaT</td>\n",
              "      <td>26</td>\n",
              "      <td>NaN</td>\n",
              "      <td>Phoebe St / Spadina Ave</td>\n",
              "      <td>NaN</td>\n",
              "      <td>Phoebe St / Spadina Ave</td>\n",
              "      <td>Member</td>\n",
              "      <td>NaN</td>\n",
              "      <td>NaN</td>\n",
              "      <td>NaN</td>\n",
              "      <td>NaN</td>\n",
              "      <td>NaN</td>\n",
              "      <td>NaN</td>\n",
              "    </tr>\n",
              "    <tr>\n",
              "      <th>363404</th>\n",
              "      <td>2383646</td>\n",
              "      <td>NaT</td>\n",
              "      <td>NaT</td>\n",
              "      <td>480</td>\n",
              "      <td>NaN</td>\n",
              "      <td>Phoebe St / Spadina Ave</td>\n",
              "      <td>NaN</td>\n",
              "      <td>Simcoe St / Queen St W</td>\n",
              "      <td>Member</td>\n",
              "      <td>NaN</td>\n",
              "      <td>NaN</td>\n",
              "      <td>NaN</td>\n",
              "      <td>NaN</td>\n",
              "      <td>NaN</td>\n",
              "      <td>NaN</td>\n",
              "    </tr>\n",
              "  </tbody>\n",
              "</table>\n",
              "<p>1492369 rows × 15 columns</p>\n",
              "</div>"
            ],
            "text/plain": [
              "        trip_id     trip_start_time  ... month_stop  weekday_stop\n",
              "0        712382 2017-01-01 00:00:00  ...        1.0           6.0\n",
              "1        712383 2017-01-01 00:00:00  ...        1.0           6.0\n",
              "2        712384 2017-01-01 00:05:00  ...        1.0           6.0\n",
              "3        712385 2017-01-01 00:07:00  ...        1.0           6.0\n",
              "4        712386 2017-01-01 00:08:00  ...        1.0           6.0\n",
              "...         ...                 ...  ...        ...           ...\n",
              "363400  2383642                 NaT  ...        NaN           NaN\n",
              "363401  2383643                 NaT  ...        NaN           NaN\n",
              "363402  2383644                 NaT  ...        NaN           NaN\n",
              "363403  2383645                 NaT  ...        NaN           NaN\n",
              "363404  2383646                 NaT  ...        NaN           NaN\n",
              "\n",
              "[1492369 rows x 15 columns]"
            ]
          },
          "metadata": {
            "tags": []
          },
          "execution_count": 171
        }
      ]
    },
    {
      "cell_type": "code",
      "metadata": {
        "id": "vyv_BSDYvWIp",
        "outputId": "5d4e7d7e-765e-4985-fbfd-c59f6d8eb866",
        "colab": {
          "base_uri": "https://localhost:8080/",
          "height": 277
        }
      },
      "source": [
        "bike2017.isnull().sum()"
      ],
      "execution_count": 172,
      "outputs": [
        {
          "output_type": "execute_result",
          "data": {
            "text/plain": [
              "trip_id                        0\n",
              "trip_start_time           963877\n",
              "trip_stop_time            963877\n",
              "trip_duration_seconds          0\n",
              "from_station_id          1026893\n",
              "from_station_name              0\n",
              "to_station_id            1026893\n",
              "to_station_name                1\n",
              "user_type                      0\n",
              "hour_start                963877\n",
              "month_start               963877\n",
              "weekday_start             963877\n",
              "hour_stop                 963877\n",
              "month_stop                963877\n",
              "weekday_stop              963877\n",
              "dtype: int64"
            ]
          },
          "metadata": {
            "tags": []
          },
          "execution_count": 172
        }
      ]
    },
    {
      "cell_type": "code",
      "metadata": {
        "id": "t0bN9J5kyMFT"
      },
      "source": [
        "bike2017 = bike2017.dropna()"
      ],
      "execution_count": 175,
      "outputs": []
    },
    {
      "cell_type": "code",
      "metadata": {
        "id": "bLYs5Eq_029g",
        "outputId": "a04df9b3-665e-446a-b989-1a0a0465946a",
        "colab": {
          "base_uri": "https://localhost:8080/",
          "height": 277
        }
      },
      "source": [
        "bike2017.isnull().sum()"
      ],
      "execution_count": 176,
      "outputs": [
        {
          "output_type": "execute_result",
          "data": {
            "text/plain": [
              "trip_id                  0\n",
              "trip_start_time          0\n",
              "trip_stop_time           0\n",
              "trip_duration_seconds    0\n",
              "from_station_id          0\n",
              "from_station_name        0\n",
              "to_station_id            0\n",
              "to_station_name          0\n",
              "user_type                0\n",
              "hour_start               0\n",
              "month_start              0\n",
              "weekday_start            0\n",
              "hour_stop                0\n",
              "month_stop               0\n",
              "weekday_stop             0\n",
              "dtype: int64"
            ]
          },
          "metadata": {
            "tags": []
          },
          "execution_count": 176
        }
      ]
    },
    {
      "cell_type": "code",
      "metadata": {
        "id": "C7-epJug1Jfb",
        "outputId": "365933ae-9edb-441a-c8bd-f1941a88624b",
        "colab": {
          "base_uri": "https://localhost:8080/",
          "height": 573
        }
      },
      "source": [
        "bike2017"
      ],
      "execution_count": 177,
      "outputs": [
        {
          "output_type": "execute_result",
          "data": {
            "text/html": [
              "<div>\n",
              "<style scoped>\n",
              "    .dataframe tbody tr th:only-of-type {\n",
              "        vertical-align: middle;\n",
              "    }\n",
              "\n",
              "    .dataframe tbody tr th {\n",
              "        vertical-align: top;\n",
              "    }\n",
              "\n",
              "    .dataframe thead th {\n",
              "        text-align: right;\n",
              "    }\n",
              "</style>\n",
              "<table border=\"1\" class=\"dataframe\">\n",
              "  <thead>\n",
              "    <tr style=\"text-align: right;\">\n",
              "      <th></th>\n",
              "      <th>trip_id</th>\n",
              "      <th>trip_start_time</th>\n",
              "      <th>trip_stop_time</th>\n",
              "      <th>trip_duration_seconds</th>\n",
              "      <th>from_station_id</th>\n",
              "      <th>from_station_name</th>\n",
              "      <th>to_station_id</th>\n",
              "      <th>to_station_name</th>\n",
              "      <th>user_type</th>\n",
              "      <th>hour_start</th>\n",
              "      <th>month_start</th>\n",
              "      <th>weekday_start</th>\n",
              "      <th>hour_stop</th>\n",
              "      <th>month_stop</th>\n",
              "      <th>weekday_stop</th>\n",
              "    </tr>\n",
              "  </thead>\n",
              "  <tbody>\n",
              "    <tr>\n",
              "      <th>0</th>\n",
              "      <td>712382</td>\n",
              "      <td>2017-01-01 00:00:00</td>\n",
              "      <td>2017-01-01 00:03:00</td>\n",
              "      <td>223</td>\n",
              "      <td>7051.0</td>\n",
              "      <td>Wellesley St E / Yonge St Green P</td>\n",
              "      <td>7089.0</td>\n",
              "      <td>Church St  / Wood St</td>\n",
              "      <td>Member</td>\n",
              "      <td>0.0</td>\n",
              "      <td>1.0</td>\n",
              "      <td>6.0</td>\n",
              "      <td>0.0</td>\n",
              "      <td>1.0</td>\n",
              "      <td>6.0</td>\n",
              "    </tr>\n",
              "    <tr>\n",
              "      <th>1</th>\n",
              "      <td>712383</td>\n",
              "      <td>2017-01-01 00:00:00</td>\n",
              "      <td>2017-01-01 00:05:00</td>\n",
              "      <td>279</td>\n",
              "      <td>7143.0</td>\n",
              "      <td>Kendal Ave / Bernard Ave</td>\n",
              "      <td>7154.0</td>\n",
              "      <td>Bathurst Subway Station</td>\n",
              "      <td>Member</td>\n",
              "      <td>0.0</td>\n",
              "      <td>1.0</td>\n",
              "      <td>6.0</td>\n",
              "      <td>0.0</td>\n",
              "      <td>1.0</td>\n",
              "      <td>6.0</td>\n",
              "    </tr>\n",
              "    <tr>\n",
              "      <th>2</th>\n",
              "      <td>712384</td>\n",
              "      <td>2017-01-01 00:05:00</td>\n",
              "      <td>2017-01-01 00:29:00</td>\n",
              "      <td>1394</td>\n",
              "      <td>7113.0</td>\n",
              "      <td>Parliament St / Aberdeen Ave</td>\n",
              "      <td>7199.0</td>\n",
              "      <td>College St W / Markham St</td>\n",
              "      <td>Member</td>\n",
              "      <td>0.0</td>\n",
              "      <td>1.0</td>\n",
              "      <td>6.0</td>\n",
              "      <td>0.0</td>\n",
              "      <td>1.0</td>\n",
              "      <td>6.0</td>\n",
              "    </tr>\n",
              "    <tr>\n",
              "      <th>3</th>\n",
              "      <td>712385</td>\n",
              "      <td>2017-01-01 00:07:00</td>\n",
              "      <td>2017-01-01 00:21:00</td>\n",
              "      <td>826</td>\n",
              "      <td>7077.0</td>\n",
              "      <td>College Park South</td>\n",
              "      <td>7010.0</td>\n",
              "      <td>King St W / Spadina Ave</td>\n",
              "      <td>Member</td>\n",
              "      <td>0.0</td>\n",
              "      <td>1.0</td>\n",
              "      <td>6.0</td>\n",
              "      <td>0.0</td>\n",
              "      <td>1.0</td>\n",
              "      <td>6.0</td>\n",
              "    </tr>\n",
              "    <tr>\n",
              "      <th>4</th>\n",
              "      <td>712386</td>\n",
              "      <td>2017-01-01 00:08:00</td>\n",
              "      <td>2017-01-01 00:12:00</td>\n",
              "      <td>279</td>\n",
              "      <td>7079.0</td>\n",
              "      <td>McGill St / Church St</td>\n",
              "      <td>7047.0</td>\n",
              "      <td>University Ave / Gerrard St W</td>\n",
              "      <td>Member</td>\n",
              "      <td>0.0</td>\n",
              "      <td>1.0</td>\n",
              "      <td>6.0</td>\n",
              "      <td>0.0</td>\n",
              "      <td>1.0</td>\n",
              "      <td>6.0</td>\n",
              "    </tr>\n",
              "    <tr>\n",
              "      <th>...</th>\n",
              "      <td>...</td>\n",
              "      <td>...</td>\n",
              "      <td>...</td>\n",
              "      <td>...</td>\n",
              "      <td>...</td>\n",
              "      <td>...</td>\n",
              "      <td>...</td>\n",
              "      <td>...</td>\n",
              "      <td>...</td>\n",
              "      <td>...</td>\n",
              "      <td>...</td>\n",
              "      <td>...</td>\n",
              "      <td>...</td>\n",
              "      <td>...</td>\n",
              "      <td>...</td>\n",
              "    </tr>\n",
              "    <tr>\n",
              "      <th>132118</th>\n",
              "      <td>1020813</td>\n",
              "      <td>2017-03-31 23:49:00</td>\n",
              "      <td>2017-01-04 00:09:00</td>\n",
              "      <td>260</td>\n",
              "      <td>7158.0</td>\n",
              "      <td>King St W / Stafford St</td>\n",
              "      <td>7177.0</td>\n",
              "      <td>East Liberty St / Pirandello St</td>\n",
              "      <td>Member</td>\n",
              "      <td>23.0</td>\n",
              "      <td>3.0</td>\n",
              "      <td>4.0</td>\n",
              "      <td>0.0</td>\n",
              "      <td>1.0</td>\n",
              "      <td>2.0</td>\n",
              "    </tr>\n",
              "    <tr>\n",
              "      <th>132119</th>\n",
              "      <td>1020814</td>\n",
              "      <td>2017-03-31 23:49:00</td>\n",
              "      <td>2017-03-31 23:57:00</td>\n",
              "      <td>359</td>\n",
              "      <td>7072.0</td>\n",
              "      <td>Queen St W / Shaw St</td>\n",
              "      <td>7211.0</td>\n",
              "      <td>Fort York Blvd / Garrison Rd</td>\n",
              "      <td>Member</td>\n",
              "      <td>23.0</td>\n",
              "      <td>3.0</td>\n",
              "      <td>4.0</td>\n",
              "      <td>23.0</td>\n",
              "      <td>3.0</td>\n",
              "      <td>4.0</td>\n",
              "    </tr>\n",
              "    <tr>\n",
              "      <th>132120</th>\n",
              "      <td>1020815</td>\n",
              "      <td>2017-03-31 23:49:00</td>\n",
              "      <td>2017-03-31 23:57:00</td>\n",
              "      <td>477</td>\n",
              "      <td>7050.0</td>\n",
              "      <td>Richmond St E / Jarvis St Green P</td>\n",
              "      <td>7006.0</td>\n",
              "      <td>Bay St / College St (East Side)</td>\n",
              "      <td>Member</td>\n",
              "      <td>23.0</td>\n",
              "      <td>3.0</td>\n",
              "      <td>4.0</td>\n",
              "      <td>23.0</td>\n",
              "      <td>3.0</td>\n",
              "      <td>4.0</td>\n",
              "    </tr>\n",
              "    <tr>\n",
              "      <th>132121</th>\n",
              "      <td>1020818</td>\n",
              "      <td>2017-03-31 23:52:00</td>\n",
              "      <td>2017-01-04 00:10:00</td>\n",
              "      <td>256</td>\n",
              "      <td>7031.0</td>\n",
              "      <td>Jarvis St / Isabella St</td>\n",
              "      <td>7055.0</td>\n",
              "      <td>Jarvis St / Carlton St</td>\n",
              "      <td>Member</td>\n",
              "      <td>23.0</td>\n",
              "      <td>3.0</td>\n",
              "      <td>4.0</td>\n",
              "      <td>0.0</td>\n",
              "      <td>1.0</td>\n",
              "      <td>2.0</td>\n",
              "    </tr>\n",
              "    <tr>\n",
              "      <th>132122</th>\n",
              "      <td>1020819</td>\n",
              "      <td>2017-03-31 23:54:00</td>\n",
              "      <td>2017-03-31 23:56:00</td>\n",
              "      <td>355</td>\n",
              "      <td>7023.0</td>\n",
              "      <td>College St W / Borden St</td>\n",
              "      <td>7066.0</td>\n",
              "      <td>Willcocks St / St. George St</td>\n",
              "      <td>Member</td>\n",
              "      <td>23.0</td>\n",
              "      <td>3.0</td>\n",
              "      <td>4.0</td>\n",
              "      <td>23.0</td>\n",
              "      <td>3.0</td>\n",
              "      <td>4.0</td>\n",
              "    </tr>\n",
              "  </tbody>\n",
              "</table>\n",
              "<p>264246 rows × 15 columns</p>\n",
              "</div>"
            ],
            "text/plain": [
              "        trip_id     trip_start_time  ... month_stop  weekday_stop\n",
              "0        712382 2017-01-01 00:00:00  ...        1.0           6.0\n",
              "1        712383 2017-01-01 00:00:00  ...        1.0           6.0\n",
              "2        712384 2017-01-01 00:05:00  ...        1.0           6.0\n",
              "3        712385 2017-01-01 00:07:00  ...        1.0           6.0\n",
              "4        712386 2017-01-01 00:08:00  ...        1.0           6.0\n",
              "...         ...                 ...  ...        ...           ...\n",
              "132118  1020813 2017-03-31 23:49:00  ...        1.0           2.0\n",
              "132119  1020814 2017-03-31 23:49:00  ...        3.0           4.0\n",
              "132120  1020815 2017-03-31 23:49:00  ...        3.0           4.0\n",
              "132121  1020818 2017-03-31 23:52:00  ...        1.0           2.0\n",
              "132122  1020819 2017-03-31 23:54:00  ...        3.0           4.0\n",
              "\n",
              "[264246 rows x 15 columns]"
            ]
          },
          "metadata": {
            "tags": []
          },
          "execution_count": 177
        }
      ]
    },
    {
      "cell_type": "code",
      "metadata": {
        "id": "SxhNvSBAytks",
        "outputId": "433fe3b4-6877-4b24-8c9e-3ce45969f494",
        "colab": {
          "base_uri": "https://localhost:8080/",
          "height": 212
        }
      },
      "source": [
        "mon = {1:'Jan',2:'Feb',3:'Mar',4:'Apr',5:'May',6:'Jun',7:'Jul',8:'Aug',9:'Sep',10:'Oct',11:'Nov',12:'Dec'}\n",
        "bike2017['month_start'] = bike2017['month_start'].map(mon)\n",
        "bike2017['month_stop'] = bike2017['month_stop'].map(mon)"
      ],
      "execution_count": 178,
      "outputs": [
        {
          "output_type": "stream",
          "text": [
            "/usr/local/lib/python3.6/dist-packages/ipykernel_launcher.py:2: SettingWithCopyWarning: \n",
            "A value is trying to be set on a copy of a slice from a DataFrame.\n",
            "Try using .loc[row_indexer,col_indexer] = value instead\n",
            "\n",
            "See the caveats in the documentation: https://pandas.pydata.org/pandas-docs/stable/user_guide/indexing.html#returning-a-view-versus-a-copy\n",
            "  \n",
            "/usr/local/lib/python3.6/dist-packages/ipykernel_launcher.py:3: SettingWithCopyWarning: \n",
            "A value is trying to be set on a copy of a slice from a DataFrame.\n",
            "Try using .loc[row_indexer,col_indexer] = value instead\n",
            "\n",
            "See the caveats in the documentation: https://pandas.pydata.org/pandas-docs/stable/user_guide/indexing.html#returning-a-view-versus-a-copy\n",
            "  This is separate from the ipykernel package so we can avoid doing imports until\n"
          ],
          "name": "stderr"
        }
      ]
    },
    {
      "cell_type": "code",
      "metadata": {
        "id": "pdSIdQ4vzoEc",
        "outputId": "6c315cd5-0c86-4e4c-cd99-4b24829fa598",
        "colab": {
          "base_uri": "https://localhost:8080/",
          "height": 212
        }
      },
      "source": [
        "day = {0:'Mon',1:'Tue',2:'Wed',3:'Thu',4:'Fri',5:'Sat',6:'Sun'}\n",
        "bike2017['weekday_start'] = bike2017['weekday_start'].map(day)\n",
        "bike2017['weekday_stop'] = bike2017['weekday_stop'].map(day)"
      ],
      "execution_count": 179,
      "outputs": [
        {
          "output_type": "stream",
          "text": [
            "/usr/local/lib/python3.6/dist-packages/ipykernel_launcher.py:2: SettingWithCopyWarning: \n",
            "A value is trying to be set on a copy of a slice from a DataFrame.\n",
            "Try using .loc[row_indexer,col_indexer] = value instead\n",
            "\n",
            "See the caveats in the documentation: https://pandas.pydata.org/pandas-docs/stable/user_guide/indexing.html#returning-a-view-versus-a-copy\n",
            "  \n",
            "/usr/local/lib/python3.6/dist-packages/ipykernel_launcher.py:3: SettingWithCopyWarning: \n",
            "A value is trying to be set on a copy of a slice from a DataFrame.\n",
            "Try using .loc[row_indexer,col_indexer] = value instead\n",
            "\n",
            "See the caveats in the documentation: https://pandas.pydata.org/pandas-docs/stable/user_guide/indexing.html#returning-a-view-versus-a-copy\n",
            "  This is separate from the ipykernel package so we can avoid doing imports until\n"
          ],
          "name": "stderr"
        }
      ]
    },
    {
      "cell_type": "code",
      "metadata": {
        "id": "w65KTy5zzx6A",
        "outputId": "863490ff-3cd8-4acd-c582-41bff254492c",
        "colab": {
          "base_uri": "https://localhost:8080/",
          "height": 573
        }
      },
      "source": [
        "bike2017"
      ],
      "execution_count": 180,
      "outputs": [
        {
          "output_type": "execute_result",
          "data": {
            "text/html": [
              "<div>\n",
              "<style scoped>\n",
              "    .dataframe tbody tr th:only-of-type {\n",
              "        vertical-align: middle;\n",
              "    }\n",
              "\n",
              "    .dataframe tbody tr th {\n",
              "        vertical-align: top;\n",
              "    }\n",
              "\n",
              "    .dataframe thead th {\n",
              "        text-align: right;\n",
              "    }\n",
              "</style>\n",
              "<table border=\"1\" class=\"dataframe\">\n",
              "  <thead>\n",
              "    <tr style=\"text-align: right;\">\n",
              "      <th></th>\n",
              "      <th>trip_id</th>\n",
              "      <th>trip_start_time</th>\n",
              "      <th>trip_stop_time</th>\n",
              "      <th>trip_duration_seconds</th>\n",
              "      <th>from_station_id</th>\n",
              "      <th>from_station_name</th>\n",
              "      <th>to_station_id</th>\n",
              "      <th>to_station_name</th>\n",
              "      <th>user_type</th>\n",
              "      <th>hour_start</th>\n",
              "      <th>month_start</th>\n",
              "      <th>weekday_start</th>\n",
              "      <th>hour_stop</th>\n",
              "      <th>month_stop</th>\n",
              "      <th>weekday_stop</th>\n",
              "    </tr>\n",
              "  </thead>\n",
              "  <tbody>\n",
              "    <tr>\n",
              "      <th>0</th>\n",
              "      <td>712382</td>\n",
              "      <td>2017-01-01 00:00:00</td>\n",
              "      <td>2017-01-01 00:03:00</td>\n",
              "      <td>223</td>\n",
              "      <td>7051.0</td>\n",
              "      <td>Wellesley St E / Yonge St Green P</td>\n",
              "      <td>7089.0</td>\n",
              "      <td>Church St  / Wood St</td>\n",
              "      <td>Member</td>\n",
              "      <td>0.0</td>\n",
              "      <td>Jan</td>\n",
              "      <td>Sun</td>\n",
              "      <td>0.0</td>\n",
              "      <td>Jan</td>\n",
              "      <td>Sun</td>\n",
              "    </tr>\n",
              "    <tr>\n",
              "      <th>1</th>\n",
              "      <td>712383</td>\n",
              "      <td>2017-01-01 00:00:00</td>\n",
              "      <td>2017-01-01 00:05:00</td>\n",
              "      <td>279</td>\n",
              "      <td>7143.0</td>\n",
              "      <td>Kendal Ave / Bernard Ave</td>\n",
              "      <td>7154.0</td>\n",
              "      <td>Bathurst Subway Station</td>\n",
              "      <td>Member</td>\n",
              "      <td>0.0</td>\n",
              "      <td>Jan</td>\n",
              "      <td>Sun</td>\n",
              "      <td>0.0</td>\n",
              "      <td>Jan</td>\n",
              "      <td>Sun</td>\n",
              "    </tr>\n",
              "    <tr>\n",
              "      <th>2</th>\n",
              "      <td>712384</td>\n",
              "      <td>2017-01-01 00:05:00</td>\n",
              "      <td>2017-01-01 00:29:00</td>\n",
              "      <td>1394</td>\n",
              "      <td>7113.0</td>\n",
              "      <td>Parliament St / Aberdeen Ave</td>\n",
              "      <td>7199.0</td>\n",
              "      <td>College St W / Markham St</td>\n",
              "      <td>Member</td>\n",
              "      <td>0.0</td>\n",
              "      <td>Jan</td>\n",
              "      <td>Sun</td>\n",
              "      <td>0.0</td>\n",
              "      <td>Jan</td>\n",
              "      <td>Sun</td>\n",
              "    </tr>\n",
              "    <tr>\n",
              "      <th>3</th>\n",
              "      <td>712385</td>\n",
              "      <td>2017-01-01 00:07:00</td>\n",
              "      <td>2017-01-01 00:21:00</td>\n",
              "      <td>826</td>\n",
              "      <td>7077.0</td>\n",
              "      <td>College Park South</td>\n",
              "      <td>7010.0</td>\n",
              "      <td>King St W / Spadina Ave</td>\n",
              "      <td>Member</td>\n",
              "      <td>0.0</td>\n",
              "      <td>Jan</td>\n",
              "      <td>Sun</td>\n",
              "      <td>0.0</td>\n",
              "      <td>Jan</td>\n",
              "      <td>Sun</td>\n",
              "    </tr>\n",
              "    <tr>\n",
              "      <th>4</th>\n",
              "      <td>712386</td>\n",
              "      <td>2017-01-01 00:08:00</td>\n",
              "      <td>2017-01-01 00:12:00</td>\n",
              "      <td>279</td>\n",
              "      <td>7079.0</td>\n",
              "      <td>McGill St / Church St</td>\n",
              "      <td>7047.0</td>\n",
              "      <td>University Ave / Gerrard St W</td>\n",
              "      <td>Member</td>\n",
              "      <td>0.0</td>\n",
              "      <td>Jan</td>\n",
              "      <td>Sun</td>\n",
              "      <td>0.0</td>\n",
              "      <td>Jan</td>\n",
              "      <td>Sun</td>\n",
              "    </tr>\n",
              "    <tr>\n",
              "      <th>...</th>\n",
              "      <td>...</td>\n",
              "      <td>...</td>\n",
              "      <td>...</td>\n",
              "      <td>...</td>\n",
              "      <td>...</td>\n",
              "      <td>...</td>\n",
              "      <td>...</td>\n",
              "      <td>...</td>\n",
              "      <td>...</td>\n",
              "      <td>...</td>\n",
              "      <td>...</td>\n",
              "      <td>...</td>\n",
              "      <td>...</td>\n",
              "      <td>...</td>\n",
              "      <td>...</td>\n",
              "    </tr>\n",
              "    <tr>\n",
              "      <th>132118</th>\n",
              "      <td>1020813</td>\n",
              "      <td>2017-03-31 23:49:00</td>\n",
              "      <td>2017-01-04 00:09:00</td>\n",
              "      <td>260</td>\n",
              "      <td>7158.0</td>\n",
              "      <td>King St W / Stafford St</td>\n",
              "      <td>7177.0</td>\n",
              "      <td>East Liberty St / Pirandello St</td>\n",
              "      <td>Member</td>\n",
              "      <td>23.0</td>\n",
              "      <td>Mar</td>\n",
              "      <td>Fri</td>\n",
              "      <td>0.0</td>\n",
              "      <td>Jan</td>\n",
              "      <td>Wed</td>\n",
              "    </tr>\n",
              "    <tr>\n",
              "      <th>132119</th>\n",
              "      <td>1020814</td>\n",
              "      <td>2017-03-31 23:49:00</td>\n",
              "      <td>2017-03-31 23:57:00</td>\n",
              "      <td>359</td>\n",
              "      <td>7072.0</td>\n",
              "      <td>Queen St W / Shaw St</td>\n",
              "      <td>7211.0</td>\n",
              "      <td>Fort York Blvd / Garrison Rd</td>\n",
              "      <td>Member</td>\n",
              "      <td>23.0</td>\n",
              "      <td>Mar</td>\n",
              "      <td>Fri</td>\n",
              "      <td>23.0</td>\n",
              "      <td>Mar</td>\n",
              "      <td>Fri</td>\n",
              "    </tr>\n",
              "    <tr>\n",
              "      <th>132120</th>\n",
              "      <td>1020815</td>\n",
              "      <td>2017-03-31 23:49:00</td>\n",
              "      <td>2017-03-31 23:57:00</td>\n",
              "      <td>477</td>\n",
              "      <td>7050.0</td>\n",
              "      <td>Richmond St E / Jarvis St Green P</td>\n",
              "      <td>7006.0</td>\n",
              "      <td>Bay St / College St (East Side)</td>\n",
              "      <td>Member</td>\n",
              "      <td>23.0</td>\n",
              "      <td>Mar</td>\n",
              "      <td>Fri</td>\n",
              "      <td>23.0</td>\n",
              "      <td>Mar</td>\n",
              "      <td>Fri</td>\n",
              "    </tr>\n",
              "    <tr>\n",
              "      <th>132121</th>\n",
              "      <td>1020818</td>\n",
              "      <td>2017-03-31 23:52:00</td>\n",
              "      <td>2017-01-04 00:10:00</td>\n",
              "      <td>256</td>\n",
              "      <td>7031.0</td>\n",
              "      <td>Jarvis St / Isabella St</td>\n",
              "      <td>7055.0</td>\n",
              "      <td>Jarvis St / Carlton St</td>\n",
              "      <td>Member</td>\n",
              "      <td>23.0</td>\n",
              "      <td>Mar</td>\n",
              "      <td>Fri</td>\n",
              "      <td>0.0</td>\n",
              "      <td>Jan</td>\n",
              "      <td>Wed</td>\n",
              "    </tr>\n",
              "    <tr>\n",
              "      <th>132122</th>\n",
              "      <td>1020819</td>\n",
              "      <td>2017-03-31 23:54:00</td>\n",
              "      <td>2017-03-31 23:56:00</td>\n",
              "      <td>355</td>\n",
              "      <td>7023.0</td>\n",
              "      <td>College St W / Borden St</td>\n",
              "      <td>7066.0</td>\n",
              "      <td>Willcocks St / St. George St</td>\n",
              "      <td>Member</td>\n",
              "      <td>23.0</td>\n",
              "      <td>Mar</td>\n",
              "      <td>Fri</td>\n",
              "      <td>23.0</td>\n",
              "      <td>Mar</td>\n",
              "      <td>Fri</td>\n",
              "    </tr>\n",
              "  </tbody>\n",
              "</table>\n",
              "<p>264246 rows × 15 columns</p>\n",
              "</div>"
            ],
            "text/plain": [
              "        trip_id     trip_start_time  ... month_stop  weekday_stop\n",
              "0        712382 2017-01-01 00:00:00  ...        Jan           Sun\n",
              "1        712383 2017-01-01 00:00:00  ...        Jan           Sun\n",
              "2        712384 2017-01-01 00:05:00  ...        Jan           Sun\n",
              "3        712385 2017-01-01 00:07:00  ...        Jan           Sun\n",
              "4        712386 2017-01-01 00:08:00  ...        Jan           Sun\n",
              "...         ...                 ...  ...        ...           ...\n",
              "132118  1020813 2017-03-31 23:49:00  ...        Jan           Wed\n",
              "132119  1020814 2017-03-31 23:49:00  ...        Mar           Fri\n",
              "132120  1020815 2017-03-31 23:49:00  ...        Mar           Fri\n",
              "132121  1020818 2017-03-31 23:52:00  ...        Jan           Wed\n",
              "132122  1020819 2017-03-31 23:54:00  ...        Mar           Fri\n",
              "\n",
              "[264246 rows x 15 columns]"
            ]
          },
          "metadata": {
            "tags": []
          },
          "execution_count": 180
        }
      ]
    },
    {
      "cell_type": "code",
      "metadata": {
        "id": "3RC-HGz41zhx",
        "outputId": "ceca5a7d-e242-44cf-df08-1f44d066be38",
        "colab": {
          "base_uri": "https://localhost:8080/",
          "height": 312
        }
      },
      "source": [
        "bike2017['user_type'].value_counts().plot(kind='bar')"
      ],
      "execution_count": 182,
      "outputs": [
        {
          "output_type": "execute_result",
          "data": {
            "text/plain": [
              "<matplotlib.axes._subplots.AxesSubplot at 0x7f0cb1ffd710>"
            ]
          },
          "metadata": {
            "tags": []
          },
          "execution_count": 182
        },
        {
          "output_type": "display_data",
          "data": {
            "image/png": "[encoded data removed]",
            "text/plain": [
              "<Figure size 432x288 with 1 Axes>"
            ]
          },
          "metadata": {
            "tags": [],
            "needs_background": "light"
          }
        }
      ]
    },
    {
      "cell_type": "code",
      "metadata": {
        "id": "l4WT-7Xh15Gc",
        "outputId": "c2f319ed-0c3b-46c2-bda2-940754a4f664",
        "colab": {
          "base_uri": "https://localhost:8080/",
          "height": 335
        }
      },
      "source": [
        "plt.figure(figsize=(10,5))\n",
        "bulan = sns.countplot(data=bike2017, x='month_start', hue='user_type', palette='coolwarm')"
      ],
      "execution_count": 190,
      "outputs": [
        {
          "output_type": "display_data",
          "data": {
            "image/png": "[encoded data removed]",
            "text/plain": [
              "<Figure size 720x360 with 1 Axes>"
            ]
          },
          "metadata": {
            "tags": [],
            "needs_background": "light"
          }
        }
      ]
    },
    {
      "cell_type": "markdown",
      "metadata": {
        "id": "u1xDj4sk27bj"
      },
      "source": [
        "Jumlah Pesepeda meningkat pada bulan Januari-Maret"
      ]
    },
    {
      "cell_type": "code",
      "metadata": {
        "id": "32wExJtm2JAX",
        "outputId": "f465c008-7a24-4b6b-b1d0-04f7205b98a2",
        "colab": {
          "base_uri": "https://localhost:8080/",
          "height": 335
        }
      },
      "source": [
        "plt.figure(figsize=(10,5))\n",
        "hari = sns.countplot(data=bike2017, x='weekday_start', hue='user_type', palette='coolwarm')"
      ],
      "execution_count": 191,
      "outputs": [
        {
          "output_type": "display_data",
          "data": {
            "image/png": "[encoded data removed]",
            "text/plain": [
              "<Figure size 720x360 with 1 Axes>"
            ]
          },
          "metadata": {
            "tags": [],
            "needs_background": "light"
          }
        }
      ]
    },
    {
      "cell_type": "markdown",
      "metadata": {
        "id": "OfooQXHp3jFY"
      },
      "source": [
        "sepanjang tahun 2017, hari jumat merupakan jumlah tertinggi berdasarkan member"
      ]
    },
    {
      "cell_type": "code",
      "metadata": {
        "id": "EI32z8-Q2dpq",
        "outputId": "dd91a72d-5cf9-415d-8ed9-3ad458bf7938",
        "colab": {
          "base_uri": "https://localhost:8080/",
          "height": 335
        }
      },
      "source": [
        "plt.figure(figsize=(10,5))\n",
        "waktu = sns.countplot(data=bike2017, x='hour_start', hue='user_type', palette='coolwarm')"
      ],
      "execution_count": 192,
      "outputs": [
        {
          "output_type": "display_data",
          "data": {
            "image/png": "[encoded data removed]",
            "text/plain": [
              "<Figure size 720x360 with 1 Axes>"
            ]
          },
          "metadata": {
            "tags": [],
            "needs_background": "light"
          }
        }
      ]
    },
    {
      "cell_type": "code",
      "metadata": {
        "id": "RddcMFX_4KEU",
        "outputId": "e948aa4a-1121-42e3-9d33-3f29d60ebfe1",
        "colab": {
          "base_uri": "https://localhost:8080/",
          "height": 421
        }
      },
      "source": [
        "bike2017['from_station_name'].value_counts().head().plot(kind=\"bar\")"
      ],
      "execution_count": 199,
      "outputs": [
        {
          "output_type": "execute_result",
          "data": {
            "text/plain": [
              "<matplotlib.axes._subplots.AxesSubplot at 0x7f0cb115eeb8>"
            ]
          },
          "metadata": {
            "tags": []
          },
          "execution_count": 199
        },
        {
          "output_type": "display_data",
          "data": {
            "image/png": "[encoded data removed]",
            "text/plain": [
              "<Figure size 432x288 with 1 Axes>"
            ]
          },
          "metadata": {
            "tags": []
          }
        }
      ]
    },
    {
      "cell_type": "code",
      "metadata": {
        "id": "bwfE7sJG5LnE",
        "outputId": "6859b263-dfb9-4ecb-b834-ccd5cd840d53",
        "colab": {
          "base_uri": "https://localhost:8080/",
          "height": 410
        }
      },
      "source": [
        "bike2017['to_station_name'].value_counts().head().plot(kind=\"bar\")"
      ],
      "execution_count": 200,
      "outputs": [
        {
          "output_type": "execute_result",
          "data": {
            "text/plain": [
              "<matplotlib.axes._subplots.AxesSubplot at 0x7f0cb0ed5c18>"
            ]
          },
          "metadata": {
            "tags": []
          },
          "execution_count": 200
        },
        {
          "output_type": "display_data",
          "data": {
            "image/png": "[encoded data removed]",
            "text/plain": [
              "<Figure size 432x288 with 1 Axes>"
            ]
          },
          "metadata": {
            "tags": []
          }
        }
      ]
    },
    {
      "cell_type": "code",
      "metadata": {
        "id": "vwgj6KNf5srN",
        "outputId": "e7847240-e01b-461b-e8ee-3973e2a596c1",
        "colab": {
          "base_uri": "https://localhost:8080/",
          "height": 277
        }
      },
      "source": [
        "aktivitas_harian = bike2017.groupby(by=['weekday_start','hour_start']).count()['user_type'].unstack()\n",
        "aktivitas_harian"
      ],
      "execution_count": 203,
      "outputs": [
        {
          "output_type": "execute_result",
          "data": {
            "text/html": [
              "<div>\n",
              "<style scoped>\n",
              "    .dataframe tbody tr th:only-of-type {\n",
              "        vertical-align: middle;\n",
              "    }\n",
              "\n",
              "    .dataframe tbody tr th {\n",
              "        vertical-align: top;\n",
              "    }\n",
              "\n",
              "    .dataframe thead th {\n",
              "        text-align: right;\n",
              "    }\n",
              "</style>\n",
              "<table border=\"1\" class=\"dataframe\">\n",
              "  <thead>\n",
              "    <tr style=\"text-align: right;\">\n",
              "      <th>hour_start</th>\n",
              "      <th>0.0</th>\n",
              "      <th>1.0</th>\n",
              "      <th>2.0</th>\n",
              "      <th>3.0</th>\n",
              "      <th>4.0</th>\n",
              "      <th>5.0</th>\n",
              "      <th>6.0</th>\n",
              "      <th>7.0</th>\n",
              "      <th>8.0</th>\n",
              "      <th>9.0</th>\n",
              "      <th>10.0</th>\n",
              "      <th>11.0</th>\n",
              "      <th>12.0</th>\n",
              "      <th>13.0</th>\n",
              "      <th>14.0</th>\n",
              "      <th>15.0</th>\n",
              "      <th>16.0</th>\n",
              "      <th>17.0</th>\n",
              "      <th>18.0</th>\n",
              "      <th>19.0</th>\n",
              "      <th>20.0</th>\n",
              "      <th>21.0</th>\n",
              "      <th>22.0</th>\n",
              "      <th>23.0</th>\n",
              "    </tr>\n",
              "    <tr>\n",
              "      <th>weekday_start</th>\n",
              "      <th></th>\n",
              "      <th></th>\n",
              "      <th></th>\n",
              "      <th></th>\n",
              "      <th></th>\n",
              "      <th></th>\n",
              "      <th></th>\n",
              "      <th></th>\n",
              "      <th></th>\n",
              "      <th></th>\n",
              "      <th></th>\n",
              "      <th></th>\n",
              "      <th></th>\n",
              "      <th></th>\n",
              "      <th></th>\n",
              "      <th></th>\n",
              "      <th></th>\n",
              "      <th></th>\n",
              "      <th></th>\n",
              "      <th></th>\n",
              "      <th></th>\n",
              "      <th></th>\n",
              "      <th></th>\n",
              "      <th></th>\n",
              "    </tr>\n",
              "  </thead>\n",
              "  <tbody>\n",
              "    <tr>\n",
              "      <th>Fri</th>\n",
              "      <td>2362</td>\n",
              "      <td>1726</td>\n",
              "      <td>1264</td>\n",
              "      <td>912</td>\n",
              "      <td>574</td>\n",
              "      <td>340</td>\n",
              "      <td>154</td>\n",
              "      <td>106</td>\n",
              "      <td>42</td>\n",
              "      <td>82</td>\n",
              "      <td>168</td>\n",
              "      <td>704</td>\n",
              "      <td>2310</td>\n",
              "      <td>5136</td>\n",
              "      <td>3576</td>\n",
              "      <td>1806</td>\n",
              "      <td>1988</td>\n",
              "      <td>2292</td>\n",
              "      <td>1960</td>\n",
              "      <td>1950</td>\n",
              "      <td>2760</td>\n",
              "      <td>4428</td>\n",
              "      <td>5526</td>\n",
              "      <td>3368</td>\n",
              "    </tr>\n",
              "    <tr>\n",
              "      <th>Mon</th>\n",
              "      <td>1492</td>\n",
              "      <td>1206</td>\n",
              "      <td>818</td>\n",
              "      <td>686</td>\n",
              "      <td>452</td>\n",
              "      <td>256</td>\n",
              "      <td>116</td>\n",
              "      <td>90</td>\n",
              "      <td>38</td>\n",
              "      <td>96</td>\n",
              "      <td>200</td>\n",
              "      <td>846</td>\n",
              "      <td>2582</td>\n",
              "      <td>4556</td>\n",
              "      <td>3278</td>\n",
              "      <td>1674</td>\n",
              "      <td>1740</td>\n",
              "      <td>2154</td>\n",
              "      <td>1882</td>\n",
              "      <td>1854</td>\n",
              "      <td>2832</td>\n",
              "      <td>4242</td>\n",
              "      <td>5146</td>\n",
              "      <td>3450</td>\n",
              "    </tr>\n",
              "    <tr>\n",
              "      <th>Sat</th>\n",
              "      <td>1646</td>\n",
              "      <td>1100</td>\n",
              "      <td>942</td>\n",
              "      <td>716</td>\n",
              "      <td>566</td>\n",
              "      <td>378</td>\n",
              "      <td>212</td>\n",
              "      <td>172</td>\n",
              "      <td>102</td>\n",
              "      <td>44</td>\n",
              "      <td>88</td>\n",
              "      <td>172</td>\n",
              "      <td>762</td>\n",
              "      <td>1736</td>\n",
              "      <td>1674</td>\n",
              "      <td>1108</td>\n",
              "      <td>1458</td>\n",
              "      <td>1714</td>\n",
              "      <td>1732</td>\n",
              "      <td>1796</td>\n",
              "      <td>2082</td>\n",
              "      <td>2378</td>\n",
              "      <td>2612</td>\n",
              "      <td>2014</td>\n",
              "    </tr>\n",
              "    <tr>\n",
              "      <th>Sun</th>\n",
              "      <td>1502</td>\n",
              "      <td>1138</td>\n",
              "      <td>842</td>\n",
              "      <td>794</td>\n",
              "      <td>508</td>\n",
              "      <td>338</td>\n",
              "      <td>316</td>\n",
              "      <td>308</td>\n",
              "      <td>116</td>\n",
              "      <td>84</td>\n",
              "      <td>76</td>\n",
              "      <td>220</td>\n",
              "      <td>686</td>\n",
              "      <td>1598</td>\n",
              "      <td>1562</td>\n",
              "      <td>1246</td>\n",
              "      <td>1410</td>\n",
              "      <td>1762</td>\n",
              "      <td>1894</td>\n",
              "      <td>1934</td>\n",
              "      <td>1994</td>\n",
              "      <td>2292</td>\n",
              "      <td>2248</td>\n",
              "      <td>1664</td>\n",
              "    </tr>\n",
              "    <tr>\n",
              "      <th>Thu</th>\n",
              "      <td>1882</td>\n",
              "      <td>1580</td>\n",
              "      <td>1236</td>\n",
              "      <td>848</td>\n",
              "      <td>518</td>\n",
              "      <td>244</td>\n",
              "      <td>144</td>\n",
              "      <td>106</td>\n",
              "      <td>48</td>\n",
              "      <td>86</td>\n",
              "      <td>240</td>\n",
              "      <td>956</td>\n",
              "      <td>2778</td>\n",
              "      <td>4678</td>\n",
              "      <td>3044</td>\n",
              "      <td>1660</td>\n",
              "      <td>1674</td>\n",
              "      <td>1916</td>\n",
              "      <td>1896</td>\n",
              "      <td>1856</td>\n",
              "      <td>2652</td>\n",
              "      <td>4320</td>\n",
              "      <td>4946</td>\n",
              "      <td>3166</td>\n",
              "    </tr>\n",
              "    <tr>\n",
              "      <th>Tue</th>\n",
              "      <td>2140</td>\n",
              "      <td>1596</td>\n",
              "      <td>1138</td>\n",
              "      <td>754</td>\n",
              "      <td>506</td>\n",
              "      <td>288</td>\n",
              "      <td>168</td>\n",
              "      <td>128</td>\n",
              "      <td>72</td>\n",
              "      <td>102</td>\n",
              "      <td>280</td>\n",
              "      <td>936</td>\n",
              "      <td>2880</td>\n",
              "      <td>5010</td>\n",
              "      <td>3102</td>\n",
              "      <td>1692</td>\n",
              "      <td>1748</td>\n",
              "      <td>2140</td>\n",
              "      <td>1872</td>\n",
              "      <td>1778</td>\n",
              "      <td>2544</td>\n",
              "      <td>4224</td>\n",
              "      <td>4624</td>\n",
              "      <td>3106</td>\n",
              "    </tr>\n",
              "    <tr>\n",
              "      <th>Wed</th>\n",
              "      <td>1508</td>\n",
              "      <td>1080</td>\n",
              "      <td>882</td>\n",
              "      <td>584</td>\n",
              "      <td>350</td>\n",
              "      <td>224</td>\n",
              "      <td>118</td>\n",
              "      <td>74</td>\n",
              "      <td>56</td>\n",
              "      <td>90</td>\n",
              "      <td>248</td>\n",
              "      <td>850</td>\n",
              "      <td>2460</td>\n",
              "      <td>4210</td>\n",
              "      <td>2922</td>\n",
              "      <td>1382</td>\n",
              "      <td>1452</td>\n",
              "      <td>1830</td>\n",
              "      <td>1698</td>\n",
              "      <td>1716</td>\n",
              "      <td>2436</td>\n",
              "      <td>3884</td>\n",
              "      <td>4738</td>\n",
              "      <td>3196</td>\n",
              "    </tr>\n",
              "  </tbody>\n",
              "</table>\n",
              "</div>"
            ],
            "text/plain": [
              "hour_start     0.0   1.0   2.0   3.0   4.0   ...  19.0  20.0  21.0  22.0  23.0\n",
              "weekday_start                                ...                              \n",
              "Fri            2362  1726  1264   912   574  ...  1950  2760  4428  5526  3368\n",
              "Mon            1492  1206   818   686   452  ...  1854  2832  4242  5146  3450\n",
              "Sat            1646  1100   942   716   566  ...  1796  2082  2378  2612  2014\n",
              "Sun            1502  1138   842   794   508  ...  1934  1994  2292  2248  1664\n",
              "Thu            1882  1580  1236   848   518  ...  1856  2652  4320  4946  3166\n",
              "Tue            2140  1596  1138   754   506  ...  1778  2544  4224  4624  3106\n",
              "Wed            1508  1080   882   584   350  ...  1716  2436  3884  4738  3196\n",
              "\n",
              "[7 rows x 24 columns]"
            ]
          },
          "metadata": {
            "tags": []
          },
          "execution_count": 203
        }
      ]
    },
    {
      "cell_type": "code",
      "metadata": {
        "id": "su1_xsSm56zF",
        "outputId": "75ab3105-d633-4ead-ee20-cd7f1b94eb40",
        "colab": {
          "base_uri": "https://localhost:8080/",
          "height": 405
        }
      },
      "source": [
        "plt.figure(figsize=(12,6))\n",
        "sns.heatmap(aktivitas_harian, cmap='Spectral')"
      ],
      "execution_count": 205,
      "outputs": [
        {
          "output_type": "execute_result",
          "data": {
            "text/plain": [
              "<matplotlib.axes._subplots.AxesSubplot at 0x7f0cb0efdb70>"
            ]
          },
          "metadata": {
            "tags": []
          },
          "execution_count": 205
        },
        {
          "output_type": "display_data",
          "data": {
            "image/png": "[encoded data removed]",
            "text/plain": [
              "<Figure size 864x432 with 2 Axes>"
            ]
          },
          "metadata": {
            "tags": []
          }
        }
      ]
    },
    {
      "cell_type": "code",
      "metadata": {
        "id": "414_TWHq6PfG"
      },
      "source": [
        ""
      ],
      "execution_count": null,
      "outputs": []
    },
    {
      "cell_type": "markdown",
      "metadata": {
        "id": "xgKhGb5j6517"
      },
      "source": [
        "# EDA Dataset 2018"
      ]
    },
    {
      "cell_type": "code",
      "metadata": {
        "id": "EjCRaVNn7BZN",
        "outputId": "eb1018b1-6f36-479c-d0a1-ebd2f57575eb",
        "colab": {
          "base_uri": "https://localhost:8080/",
          "height": 180
        }
      },
      "source": [
        "bike2018.isnull().sum()"
      ],
      "execution_count": 206,
      "outputs": [
        {
          "output_type": "execute_result",
          "data": {
            "text/plain": [
              "trip_id                        0\n",
              "trip_duration_seconds          0\n",
              "from_station_id                0\n",
              "trip_start_time          1208719\n",
              "from_station_name              0\n",
              "trip_stop_time           1208719\n",
              "to_station_id                  0\n",
              "to_station_name                0\n",
              "user_type                      0\n",
              "dtype: int64"
            ]
          },
          "metadata": {
            "tags": []
          },
          "execution_count": 206
        }
      ]
    },
    {
      "cell_type": "code",
      "metadata": {
        "id": "EvALUTZT7ZNh"
      },
      "source": [
        "bike2018['hour_start'] = bike2018['trip_start_time'].apply(lambda time: time.hour)"
      ],
      "execution_count": 207,
      "outputs": []
    },
    {
      "cell_type": "code",
      "metadata": {
        "id": "g-Y8RQHR7c1D"
      },
      "source": [
        "bike2018['month_start'] = bike2018['trip_start_time'].apply(lambda time: time.month)"
      ],
      "execution_count": 208,
      "outputs": []
    },
    {
      "cell_type": "code",
      "metadata": {
        "id": "ym3D9vaU7dBe"
      },
      "source": [
        "bike2018['weekday_start'] = bike2018['trip_start_time'].apply(lambda time: time.dayofweek)"
      ],
      "execution_count": 209,
      "outputs": []
    },
    {
      "cell_type": "code",
      "metadata": {
        "id": "OhSSSGYy7dFW"
      },
      "source": [
        "bike2018['hour_stop'] = bike2018['trip_stop_time'].apply(lambda time: time.hour)"
      ],
      "execution_count": 210,
      "outputs": []
    },
    {
      "cell_type": "code",
      "metadata": {
        "id": "bY9owaoU7dL_"
      },
      "source": [
        "bike2018['month_stop'] = bike2018['trip_stop_time'].apply(lambda time: time.month)"
      ],
      "execution_count": 211,
      "outputs": []
    },
    {
      "cell_type": "code",
      "metadata": {
        "id": "j62kcOFI7dKR"
      },
      "source": [
        "bike2018['weekday_stop'] = bike2018['trip_stop_time'].apply(lambda time: time.dayofweek)"
      ],
      "execution_count": 212,
      "outputs": []
    },
    {
      "cell_type": "code",
      "metadata": {
        "id": "uoCTw7ie8L3L",
        "outputId": "d3fda791-7188-499f-bd59-e61154674431",
        "colab": {
          "base_uri": "https://localhost:8080/",
          "height": 606
        }
      },
      "source": [
        "bike2018"
      ],
      "execution_count": 213,
      "outputs": [
        {
          "output_type": "execute_result",
          "data": {
            "text/html": [
              "<div>\n",
              "<style scoped>\n",
              "    .dataframe tbody tr th:only-of-type {\n",
              "        vertical-align: middle;\n",
              "    }\n",
              "\n",
              "    .dataframe tbody tr th {\n",
              "        vertical-align: top;\n",
              "    }\n",
              "\n",
              "    .dataframe thead th {\n",
              "        text-align: right;\n",
              "    }\n",
              "</style>\n",
              "<table border=\"1\" class=\"dataframe\">\n",
              "  <thead>\n",
              "    <tr style=\"text-align: right;\">\n",
              "      <th></th>\n",
              "      <th>trip_id</th>\n",
              "      <th>trip_duration_seconds</th>\n",
              "      <th>from_station_id</th>\n",
              "      <th>trip_start_time</th>\n",
              "      <th>from_station_name</th>\n",
              "      <th>trip_stop_time</th>\n",
              "      <th>to_station_id</th>\n",
              "      <th>to_station_name</th>\n",
              "      <th>user_type</th>\n",
              "      <th>hour_start</th>\n",
              "      <th>month_start</th>\n",
              "      <th>weekday_start</th>\n",
              "      <th>hour_stop</th>\n",
              "      <th>month_stop</th>\n",
              "      <th>weekday_stop</th>\n",
              "    </tr>\n",
              "  </thead>\n",
              "  <tbody>\n",
              "    <tr>\n",
              "      <th>0</th>\n",
              "      <td>2383648</td>\n",
              "      <td>393</td>\n",
              "      <td>7018</td>\n",
              "      <td>2018-01-01 00:47:00</td>\n",
              "      <td>Bremner Blvd / Rees St</td>\n",
              "      <td>2018-01-01 00:54:00</td>\n",
              "      <td>7176</td>\n",
              "      <td>Bathurst St / Fort York Blvd</td>\n",
              "      <td>Annual Member</td>\n",
              "      <td>0.0</td>\n",
              "      <td>1.0</td>\n",
              "      <td>0.0</td>\n",
              "      <td>0.0</td>\n",
              "      <td>1.0</td>\n",
              "      <td>0.0</td>\n",
              "    </tr>\n",
              "    <tr>\n",
              "      <th>1</th>\n",
              "      <td>2383649</td>\n",
              "      <td>625</td>\n",
              "      <td>7184</td>\n",
              "      <td>2018-01-01 00:52:00</td>\n",
              "      <td>Ossington Ave / College St</td>\n",
              "      <td>2018-01-01 01:03:00</td>\n",
              "      <td>7191</td>\n",
              "      <td>Central Tech  (Harbord St)</td>\n",
              "      <td>Annual Member</td>\n",
              "      <td>0.0</td>\n",
              "      <td>1.0</td>\n",
              "      <td>0.0</td>\n",
              "      <td>1.0</td>\n",
              "      <td>1.0</td>\n",
              "      <td>0.0</td>\n",
              "    </tr>\n",
              "    <tr>\n",
              "      <th>2</th>\n",
              "      <td>2383650</td>\n",
              "      <td>233</td>\n",
              "      <td>7235</td>\n",
              "      <td>2018-01-01 00:55:00</td>\n",
              "      <td>Bay St / College St (West Side) - SMART</td>\n",
              "      <td>2018-01-01 00:59:00</td>\n",
              "      <td>7021</td>\n",
              "      <td>Bay St / Albert St</td>\n",
              "      <td>Annual Member</td>\n",
              "      <td>0.0</td>\n",
              "      <td>1.0</td>\n",
              "      <td>0.0</td>\n",
              "      <td>0.0</td>\n",
              "      <td>1.0</td>\n",
              "      <td>0.0</td>\n",
              "    </tr>\n",
              "    <tr>\n",
              "      <th>3</th>\n",
              "      <td>2383651</td>\n",
              "      <td>1138</td>\n",
              "      <td>7202</td>\n",
              "      <td>2018-01-01 00:57:00</td>\n",
              "      <td>Queen St W / York St (City Hall)</td>\n",
              "      <td>2018-01-01 01:16:00</td>\n",
              "      <td>7020</td>\n",
              "      <td>Phoebe St / Spadina Ave</td>\n",
              "      <td>Annual Member</td>\n",
              "      <td>0.0</td>\n",
              "      <td>1.0</td>\n",
              "      <td>0.0</td>\n",
              "      <td>1.0</td>\n",
              "      <td>1.0</td>\n",
              "      <td>0.0</td>\n",
              "    </tr>\n",
              "    <tr>\n",
              "      <th>4</th>\n",
              "      <td>2383652</td>\n",
              "      <td>703</td>\n",
              "      <td>7004</td>\n",
              "      <td>2018-01-01 01:00:00</td>\n",
              "      <td>University Ave / Elm St</td>\n",
              "      <td>2018-01-01 01:12:00</td>\n",
              "      <td>7060</td>\n",
              "      <td>Princess St / Adelaide St E</td>\n",
              "      <td>Annual Member</td>\n",
              "      <td>1.0</td>\n",
              "      <td>1.0</td>\n",
              "      <td>0.0</td>\n",
              "      <td>1.0</td>\n",
              "      <td>1.0</td>\n",
              "      <td>0.0</td>\n",
              "    </tr>\n",
              "    <tr>\n",
              "      <th>...</th>\n",
              "      <td>...</td>\n",
              "      <td>...</td>\n",
              "      <td>...</td>\n",
              "      <td>...</td>\n",
              "      <td>...</td>\n",
              "      <td>...</td>\n",
              "      <td>...</td>\n",
              "      <td>...</td>\n",
              "      <td>...</td>\n",
              "      <td>...</td>\n",
              "      <td>...</td>\n",
              "      <td>...</td>\n",
              "      <td>...</td>\n",
              "      <td>...</td>\n",
              "      <td>...</td>\n",
              "    </tr>\n",
              "    <tr>\n",
              "      <th>363485</th>\n",
              "      <td>4581273</td>\n",
              "      <td>379</td>\n",
              "      <td>7088</td>\n",
              "      <td>NaT</td>\n",
              "      <td>Danforth Ave / Coxwell Ave</td>\n",
              "      <td>NaT</td>\n",
              "      <td>7091</td>\n",
              "      <td>Donlands Station</td>\n",
              "      <td>Annual Member</td>\n",
              "      <td>NaN</td>\n",
              "      <td>NaN</td>\n",
              "      <td>NaN</td>\n",
              "      <td>NaN</td>\n",
              "      <td>NaN</td>\n",
              "      <td>NaN</td>\n",
              "    </tr>\n",
              "    <tr>\n",
              "      <th>363486</th>\n",
              "      <td>4581274</td>\n",
              "      <td>306</td>\n",
              "      <td>7030</td>\n",
              "      <td>NaT</td>\n",
              "      <td>Bay St / Wellesley St W</td>\n",
              "      <td>NaT</td>\n",
              "      <td>7031</td>\n",
              "      <td>Jarvis St / Isabella St</td>\n",
              "      <td>Annual Member</td>\n",
              "      <td>NaN</td>\n",
              "      <td>NaN</td>\n",
              "      <td>NaN</td>\n",
              "      <td>NaN</td>\n",
              "      <td>NaN</td>\n",
              "      <td>NaN</td>\n",
              "    </tr>\n",
              "    <tr>\n",
              "      <th>363487</th>\n",
              "      <td>4581275</td>\n",
              "      <td>340</td>\n",
              "      <td>7020</td>\n",
              "      <td>NaT</td>\n",
              "      <td>Phoebe St / Spadina Ave</td>\n",
              "      <td>NaT</td>\n",
              "      <td>7000</td>\n",
              "      <td>Fort York  Blvd / Capreol Ct</td>\n",
              "      <td>Annual Member</td>\n",
              "      <td>NaN</td>\n",
              "      <td>NaN</td>\n",
              "      <td>NaN</td>\n",
              "      <td>NaN</td>\n",
              "      <td>NaN</td>\n",
              "      <td>NaN</td>\n",
              "    </tr>\n",
              "    <tr>\n",
              "      <th>363488</th>\n",
              "      <td>4581276</td>\n",
              "      <td>1466</td>\n",
              "      <td>7014</td>\n",
              "      <td>NaT</td>\n",
              "      <td>Sherbourne St / Carlton St (Allan Gardens)</td>\n",
              "      <td>NaT</td>\n",
              "      <td>7269</td>\n",
              "      <td>Toronto Eaton Centre (Yonge St)</td>\n",
              "      <td>Annual Member</td>\n",
              "      <td>NaN</td>\n",
              "      <td>NaN</td>\n",
              "      <td>NaN</td>\n",
              "      <td>NaN</td>\n",
              "      <td>NaN</td>\n",
              "      <td>NaN</td>\n",
              "    </tr>\n",
              "    <tr>\n",
              "      <th>363489</th>\n",
              "      <td>4581277</td>\n",
              "      <td>333</td>\n",
              "      <td>7299</td>\n",
              "      <td>NaT</td>\n",
              "      <td>Mill St / Parliament St</td>\n",
              "      <td>NaT</td>\n",
              "      <td>7013</td>\n",
              "      <td>Scott St / The Esplanade</td>\n",
              "      <td>Annual Member</td>\n",
              "      <td>NaN</td>\n",
              "      <td>NaN</td>\n",
              "      <td>NaN</td>\n",
              "      <td>NaN</td>\n",
              "      <td>NaN</td>\n",
              "      <td>NaN</td>\n",
              "    </tr>\n",
              "  </tbody>\n",
              "</table>\n",
              "<p>1922955 rows × 15 columns</p>\n",
              "</div>"
            ],
            "text/plain": [
              "        trip_id  trip_duration_seconds  ...  month_stop weekday_stop\n",
              "0       2383648                    393  ...         1.0          0.0\n",
              "1       2383649                    625  ...         1.0          0.0\n",
              "2       2383650                    233  ...         1.0          0.0\n",
              "3       2383651                   1138  ...         1.0          0.0\n",
              "4       2383652                    703  ...         1.0          0.0\n",
              "...         ...                    ...  ...         ...          ...\n",
              "363485  4581273                    379  ...         NaN          NaN\n",
              "363486  4581274                    306  ...         NaN          NaN\n",
              "363487  4581275                    340  ...         NaN          NaN\n",
              "363488  4581276                   1466  ...         NaN          NaN\n",
              "363489  4581277                    333  ...         NaN          NaN\n",
              "\n",
              "[1922955 rows x 15 columns]"
            ]
          },
          "metadata": {
            "tags": []
          },
          "execution_count": 213
        }
      ]
    },
    {
      "cell_type": "code",
      "metadata": {
        "id": "RjWw18VA8O0m"
      },
      "source": [
        "bike2018 = bike2018.dropna()"
      ],
      "execution_count": 214,
      "outputs": []
    },
    {
      "cell_type": "code",
      "metadata": {
        "id": "FtbhhpHx8WhH",
        "outputId": "9d95cac1-928e-4494-a4e9-054b88e0e9d0",
        "colab": {
          "base_uri": "https://localhost:8080/",
          "height": 277
        }
      },
      "source": [
        "bike2018.isnull().sum()"
      ],
      "execution_count": 215,
      "outputs": [
        {
          "output_type": "execute_result",
          "data": {
            "text/plain": [
              "trip_id                  0\n",
              "trip_duration_seconds    0\n",
              "from_station_id          0\n",
              "trip_start_time          0\n",
              "from_station_name        0\n",
              "trip_stop_time           0\n",
              "to_station_id            0\n",
              "to_station_name          0\n",
              "user_type                0\n",
              "hour_start               0\n",
              "month_start              0\n",
              "weekday_start            0\n",
              "hour_stop                0\n",
              "month_stop               0\n",
              "weekday_stop             0\n",
              "dtype: int64"
            ]
          },
          "metadata": {
            "tags": []
          },
          "execution_count": 215
        }
      ]
    },
    {
      "cell_type": "code",
      "metadata": {
        "id": "ywffA7478aMc",
        "outputId": "555343c8-f42e-47a0-d15c-850fc3382976",
        "colab": {
          "base_uri": "https://localhost:8080/",
          "height": 375
        }
      },
      "source": [
        "bike2018.info()"
      ],
      "execution_count": 217,
      "outputs": [
        {
          "output_type": "stream",
          "text": [
            "<class 'pandas.core.frame.DataFrame'>\n",
            "Int64Index: 714236 entries, 0 to 178558\n",
            "Data columns (total 15 columns):\n",
            " #   Column                 Non-Null Count   Dtype         \n",
            "---  ------                 --------------   -----         \n",
            " 0   trip_id                714236 non-null  int64         \n",
            " 1   trip_duration_seconds  714236 non-null  int64         \n",
            " 2   from_station_id        714236 non-null  int64         \n",
            " 3   trip_start_time        714236 non-null  datetime64[ns]\n",
            " 4   from_station_name      714236 non-null  object        \n",
            " 5   trip_stop_time         714236 non-null  datetime64[ns]\n",
            " 6   to_station_id          714236 non-null  int64         \n",
            " 7   to_station_name        714236 non-null  object        \n",
            " 8   user_type              714236 non-null  object        \n",
            " 9   hour_start             714236 non-null  float64       \n",
            " 10  month_start            714236 non-null  float64       \n",
            " 11  weekday_start          714236 non-null  float64       \n",
            " 12  hour_stop              714236 non-null  float64       \n",
            " 13  month_stop             714236 non-null  float64       \n",
            " 14  weekday_stop           714236 non-null  float64       \n",
            "dtypes: datetime64[ns](2), float64(6), int64(4), object(3)\n",
            "memory usage: 87.2+ MB\n"
          ],
          "name": "stdout"
        }
      ]
    },
    {
      "cell_type": "code",
      "metadata": {
        "id": "REFuXxFz8cly",
        "outputId": "476e2497-b7cb-44e1-df1d-ab6f6dba3fe4",
        "colab": {
          "base_uri": "https://localhost:8080/",
          "height": 212
        }
      },
      "source": [
        "mon = {1:'Jan',2:'Feb',3:'Mar',4:'Apr',5:'May',6:'Jun',7:'Jul',8:'Aug',9:'Sep',10:'Oct',11:'Nov',12:'Dec'}\n",
        "bike2018['month_start'] = bike2018['month_start'].map(mon)\n",
        "bike2018['month_stop'] = bike2018['month_stop'].map(mon)"
      ],
      "execution_count": 218,
      "outputs": [
        {
          "output_type": "stream",
          "text": [
            "/usr/local/lib/python3.6/dist-packages/ipykernel_launcher.py:2: SettingWithCopyWarning: \n",
            "A value is trying to be set on a copy of a slice from a DataFrame.\n",
            "Try using .loc[row_indexer,col_indexer] = value instead\n",
            "\n",
            "See the caveats in the documentation: https://pandas.pydata.org/pandas-docs/stable/user_guide/indexing.html#returning-a-view-versus-a-copy\n",
            "  \n",
            "/usr/local/lib/python3.6/dist-packages/ipykernel_launcher.py:3: SettingWithCopyWarning: \n",
            "A value is trying to be set on a copy of a slice from a DataFrame.\n",
            "Try using .loc[row_indexer,col_indexer] = value instead\n",
            "\n",
            "See the caveats in the documentation: https://pandas.pydata.org/pandas-docs/stable/user_guide/indexing.html#returning-a-view-versus-a-copy\n",
            "  This is separate from the ipykernel package so we can avoid doing imports until\n"
          ],
          "name": "stderr"
        }
      ]
    },
    {
      "cell_type": "code",
      "metadata": {
        "id": "noSZCIdS-BJF",
        "outputId": "8347e2ed-489c-4e21-d39d-3ae7b001ec4d",
        "colab": {
          "base_uri": "https://localhost:8080/",
          "height": 212
        }
      },
      "source": [
        "day = {0:'Mon',1:'Tue',2:'Wed',3:'Thu',4:'Fri',5:'Sat',6:'Sun'}\n",
        "bike2018['weekday_start'] = bike2018['weekday_start'].map(day)\n",
        "bike2018['weekday_stop'] = bike2018['weekday_stop'].map(day)"
      ],
      "execution_count": 220,
      "outputs": [
        {
          "output_type": "stream",
          "text": [
            "/usr/local/lib/python3.6/dist-packages/ipykernel_launcher.py:2: SettingWithCopyWarning: \n",
            "A value is trying to be set on a copy of a slice from a DataFrame.\n",
            "Try using .loc[row_indexer,col_indexer] = value instead\n",
            "\n",
            "See the caveats in the documentation: https://pandas.pydata.org/pandas-docs/stable/user_guide/indexing.html#returning-a-view-versus-a-copy\n",
            "  \n",
            "/usr/local/lib/python3.6/dist-packages/ipykernel_launcher.py:3: SettingWithCopyWarning: \n",
            "A value is trying to be set on a copy of a slice from a DataFrame.\n",
            "Try using .loc[row_indexer,col_indexer] = value instead\n",
            "\n",
            "See the caveats in the documentation: https://pandas.pydata.org/pandas-docs/stable/user_guide/indexing.html#returning-a-view-versus-a-copy\n",
            "  This is separate from the ipykernel package so we can avoid doing imports until\n"
          ],
          "name": "stderr"
        }
      ]
    },
    {
      "cell_type": "code",
      "metadata": {
        "id": "H-9IUVvw-He0",
        "outputId": "d58298d8-d3e0-4d52-c71c-79edce84f6c4",
        "colab": {
          "base_uri": "https://localhost:8080/",
          "height": 350
        }
      },
      "source": [
        "bike2018['user_type'].value_counts().plot(kind='bar')"
      ],
      "execution_count": 221,
      "outputs": [
        {
          "output_type": "execute_result",
          "data": {
            "text/plain": [
              "<matplotlib.axes._subplots.AxesSubplot at 0x7f0cb731b898>"
            ]
          },
          "metadata": {
            "tags": []
          },
          "execution_count": 221
        },
        {
          "output_type": "display_data",
          "data": {
            "image/png": "[encoded data removed]",
            "text/plain": [
              "<Figure size 432x288 with 1 Axes>"
            ]
          },
          "metadata": {
            "tags": []
          }
        }
      ]
    },
    {
      "cell_type": "code",
      "metadata": {
        "id": "OQnk4ox--T3s",
        "outputId": "33d1b8dc-33b7-47d5-8d9b-062955734aca",
        "colab": {
          "base_uri": "https://localhost:8080/",
          "height": 335
        }
      },
      "source": [
        "plt.figure(figsize=(10,5))\n",
        "bulan1 = sns.countplot(data=bike2018, x='month_start', hue='user_type', palette='coolwarm')"
      ],
      "execution_count": 222,
      "outputs": [
        {
          "output_type": "display_data",
          "data": {
            "image/png": "[encoded data removed]",
            "text/plain": [
              "<Figure size 720x360 with 1 Axes>"
            ]
          },
          "metadata": {
            "tags": []
          }
        }
      ]
    },
    {
      "cell_type": "code",
      "metadata": {
        "id": "le_61Udw-UeO",
        "outputId": "80d82584-72db-4927-e41c-85a8da4aa143",
        "colab": {
          "base_uri": "https://localhost:8080/",
          "height": 335
        }
      },
      "source": [
        "plt.figure(figsize=(10,5))\n",
        "hari1 = sns.countplot(data=bike2018, x='weekday_start', hue='user_type', palette='coolwarm')"
      ],
      "execution_count": 223,
      "outputs": [
        {
          "output_type": "display_data",
          "data": {
            "image/png": "[encoded data removed]",
            "text/plain": [
              "<Figure size 720x360 with 1 Axes>"
            ]
          },
          "metadata": {
            "tags": []
          }
        }
      ]
    },
    {
      "cell_type": "code",
      "metadata": {
        "id": "IQ_jAvnS-brZ",
        "outputId": "380e8acb-187c-4992-dc23-6c016080cb3e",
        "colab": {
          "base_uri": "https://localhost:8080/",
          "height": 335
        }
      },
      "source": [
        "plt.figure(figsize=(10,5))\n",
        "waktu1 = sns.countplot(data=bike2018, x='hour_start', hue='user_type', palette='coolwarm')"
      ],
      "execution_count": 224,
      "outputs": [
        {
          "output_type": "display_data",
          "data": {
            "image/png": "[encoded data removed]",
            "text/plain": [
              "<Figure size 720x360 with 1 Axes>"
            ]
          },
          "metadata": {
            "tags": []
          }
        }
      ]
    },
    {
      "cell_type": "code",
      "metadata": {
        "id": "D2lG4GSZ-cFr",
        "outputId": "4afb3751-fba3-4cc6-b3d8-f656895a92f4",
        "colab": {
          "base_uri": "https://localhost:8080/",
          "height": 475
        }
      },
      "source": [
        "bike2018['from_station_name'].value_counts().head().plot(kind=\"bar\")"
      ],
      "execution_count": 225,
      "outputs": [
        {
          "output_type": "execute_result",
          "data": {
            "text/plain": [
              "<matplotlib.axes._subplots.AxesSubplot at 0x7f0cb4e25470>"
            ]
          },
          "metadata": {
            "tags": []
          },
          "execution_count": 225
        },
        {
          "output_type": "display_data",
          "data": {
            "image/png": "[encoded data removed]",
            "text/plain": [
              "<Figure size 432x288 with 1 Axes>"
            ]
          },
          "metadata": {
            "tags": []
          }
        }
      ]
    },
    {
      "cell_type": "code",
      "metadata": {
        "id": "RNDNF43m-icj",
        "outputId": "0ca6e8e0-18ee-4984-e297-527d91f371ff",
        "colab": {
          "base_uri": "https://localhost:8080/",
          "height": 477
        }
      },
      "source": [
        "bike2018['to_station_name'].value_counts().head().plot(kind=\"bar\")"
      ],
      "execution_count": 226,
      "outputs": [
        {
          "output_type": "execute_result",
          "data": {
            "text/plain": [
              "<matplotlib.axes._subplots.AxesSubplot at 0x7f0cb4c4ecf8>"
            ]
          },
          "metadata": {
            "tags": []
          },
          "execution_count": 226
        },
        {
          "output_type": "display_data",
          "data": {
            "image/png": "[encoded data removed]",
            "text/plain": [
              "<Figure size 432x288 with 1 Axes>"
            ]
          },
          "metadata": {
            "tags": []
          }
        }
      ]
    },
    {
      "cell_type": "code",
      "metadata": {
        "id": "RklXVJsd-miu",
        "outputId": "837f4296-041a-45f8-ccd8-9c596235690b",
        "colab": {
          "base_uri": "https://localhost:8080/",
          "height": 277
        }
      },
      "source": [
        "aktivitas_harian1 = bike2018.groupby(by=['weekday_start','hour_start']).count()['user_type'].unstack()\n",
        "aktivitas_harian1"
      ],
      "execution_count": 227,
      "outputs": [
        {
          "output_type": "execute_result",
          "data": {
            "text/html": [
              "<div>\n",
              "<style scoped>\n",
              "    .dataframe tbody tr th:only-of-type {\n",
              "        vertical-align: middle;\n",
              "    }\n",
              "\n",
              "    .dataframe tbody tr th {\n",
              "        vertical-align: top;\n",
              "    }\n",
              "\n",
              "    .dataframe thead th {\n",
              "        text-align: right;\n",
              "    }\n",
              "</style>\n",
              "<table border=\"1\" class=\"dataframe\">\n",
              "  <thead>\n",
              "    <tr style=\"text-align: right;\">\n",
              "      <th>hour_start</th>\n",
              "      <th>0.0</th>\n",
              "      <th>1.0</th>\n",
              "      <th>2.0</th>\n",
              "      <th>3.0</th>\n",
              "      <th>4.0</th>\n",
              "      <th>5.0</th>\n",
              "      <th>6.0</th>\n",
              "      <th>7.0</th>\n",
              "      <th>8.0</th>\n",
              "      <th>9.0</th>\n",
              "      <th>10.0</th>\n",
              "      <th>11.0</th>\n",
              "      <th>12.0</th>\n",
              "      <th>13.0</th>\n",
              "      <th>14.0</th>\n",
              "      <th>15.0</th>\n",
              "      <th>16.0</th>\n",
              "      <th>17.0</th>\n",
              "      <th>18.0</th>\n",
              "      <th>19.0</th>\n",
              "      <th>20.0</th>\n",
              "      <th>21.0</th>\n",
              "      <th>22.0</th>\n",
              "      <th>23.0</th>\n",
              "    </tr>\n",
              "    <tr>\n",
              "      <th>weekday_start</th>\n",
              "      <th></th>\n",
              "      <th></th>\n",
              "      <th></th>\n",
              "      <th></th>\n",
              "      <th></th>\n",
              "      <th></th>\n",
              "      <th></th>\n",
              "      <th></th>\n",
              "      <th></th>\n",
              "      <th></th>\n",
              "      <th></th>\n",
              "      <th></th>\n",
              "      <th></th>\n",
              "      <th></th>\n",
              "      <th></th>\n",
              "      <th></th>\n",
              "      <th></th>\n",
              "      <th></th>\n",
              "      <th></th>\n",
              "      <th></th>\n",
              "      <th></th>\n",
              "      <th></th>\n",
              "      <th></th>\n",
              "      <th></th>\n",
              "    </tr>\n",
              "  </thead>\n",
              "  <tbody>\n",
              "    <tr>\n",
              "      <th>Fri</th>\n",
              "      <td>852</td>\n",
              "      <td>468</td>\n",
              "      <td>328</td>\n",
              "      <td>188</td>\n",
              "      <td>176</td>\n",
              "      <td>524</td>\n",
              "      <td>1508</td>\n",
              "      <td>4636</td>\n",
              "      <td>12848</td>\n",
              "      <td>9464</td>\n",
              "      <td>4772</td>\n",
              "      <td>4768</td>\n",
              "      <td>5524</td>\n",
              "      <td>4824</td>\n",
              "      <td>4800</td>\n",
              "      <td>6492</td>\n",
              "      <td>9492</td>\n",
              "      <td>12676</td>\n",
              "      <td>8832</td>\n",
              "      <td>5512</td>\n",
              "      <td>3512</td>\n",
              "      <td>2892</td>\n",
              "      <td>2360</td>\n",
              "      <td>1680</td>\n",
              "    </tr>\n",
              "    <tr>\n",
              "      <th>Mon</th>\n",
              "      <td>616</td>\n",
              "      <td>356</td>\n",
              "      <td>252</td>\n",
              "      <td>168</td>\n",
              "      <td>180</td>\n",
              "      <td>588</td>\n",
              "      <td>1516</td>\n",
              "      <td>4652</td>\n",
              "      <td>13124</td>\n",
              "      <td>8676</td>\n",
              "      <td>3588</td>\n",
              "      <td>3520</td>\n",
              "      <td>4300</td>\n",
              "      <td>4024</td>\n",
              "      <td>3924</td>\n",
              "      <td>4844</td>\n",
              "      <td>8808</td>\n",
              "      <td>13280</td>\n",
              "      <td>9072</td>\n",
              "      <td>5200</td>\n",
              "      <td>3812</td>\n",
              "      <td>2632</td>\n",
              "      <td>1900</td>\n",
              "      <td>1180</td>\n",
              "    </tr>\n",
              "    <tr>\n",
              "      <th>Sat</th>\n",
              "      <td>1336</td>\n",
              "      <td>1104</td>\n",
              "      <td>784</td>\n",
              "      <td>392</td>\n",
              "      <td>152</td>\n",
              "      <td>196</td>\n",
              "      <td>436</td>\n",
              "      <td>900</td>\n",
              "      <td>2028</td>\n",
              "      <td>3600</td>\n",
              "      <td>4748</td>\n",
              "      <td>5240</td>\n",
              "      <td>6340</td>\n",
              "      <td>6496</td>\n",
              "      <td>6384</td>\n",
              "      <td>6516</td>\n",
              "      <td>6604</td>\n",
              "      <td>5416</td>\n",
              "      <td>4820</td>\n",
              "      <td>3628</td>\n",
              "      <td>2716</td>\n",
              "      <td>2336</td>\n",
              "      <td>1924</td>\n",
              "      <td>1492</td>\n",
              "    </tr>\n",
              "    <tr>\n",
              "      <th>Sun</th>\n",
              "      <td>1136</td>\n",
              "      <td>1024</td>\n",
              "      <td>604</td>\n",
              "      <td>380</td>\n",
              "      <td>172</td>\n",
              "      <td>128</td>\n",
              "      <td>256</td>\n",
              "      <td>532</td>\n",
              "      <td>1116</td>\n",
              "      <td>2096</td>\n",
              "      <td>3368</td>\n",
              "      <td>4012</td>\n",
              "      <td>4880</td>\n",
              "      <td>5624</td>\n",
              "      <td>6100</td>\n",
              "      <td>6460</td>\n",
              "      <td>6500</td>\n",
              "      <td>5596</td>\n",
              "      <td>4496</td>\n",
              "      <td>3204</td>\n",
              "      <td>2312</td>\n",
              "      <td>1832</td>\n",
              "      <td>1528</td>\n",
              "      <td>1084</td>\n",
              "    </tr>\n",
              "    <tr>\n",
              "      <th>Thu</th>\n",
              "      <td>868</td>\n",
              "      <td>424</td>\n",
              "      <td>316</td>\n",
              "      <td>80</td>\n",
              "      <td>104</td>\n",
              "      <td>560</td>\n",
              "      <td>1896</td>\n",
              "      <td>6300</td>\n",
              "      <td>16476</td>\n",
              "      <td>11736</td>\n",
              "      <td>5080</td>\n",
              "      <td>4752</td>\n",
              "      <td>5520</td>\n",
              "      <td>4992</td>\n",
              "      <td>4312</td>\n",
              "      <td>5808</td>\n",
              "      <td>10340</td>\n",
              "      <td>15200</td>\n",
              "      <td>9964</td>\n",
              "      <td>6068</td>\n",
              "      <td>4844</td>\n",
              "      <td>3388</td>\n",
              "      <td>2428</td>\n",
              "      <td>1616</td>\n",
              "    </tr>\n",
              "    <tr>\n",
              "      <th>Tue</th>\n",
              "      <td>512</td>\n",
              "      <td>256</td>\n",
              "      <td>200</td>\n",
              "      <td>76</td>\n",
              "      <td>60</td>\n",
              "      <td>528</td>\n",
              "      <td>1628</td>\n",
              "      <td>5420</td>\n",
              "      <td>14504</td>\n",
              "      <td>10160</td>\n",
              "      <td>4096</td>\n",
              "      <td>3528</td>\n",
              "      <td>5056</td>\n",
              "      <td>4488</td>\n",
              "      <td>4096</td>\n",
              "      <td>5348</td>\n",
              "      <td>10040</td>\n",
              "      <td>15700</td>\n",
              "      <td>10836</td>\n",
              "      <td>6700</td>\n",
              "      <td>4784</td>\n",
              "      <td>4172</td>\n",
              "      <td>2664</td>\n",
              "      <td>1520</td>\n",
              "    </tr>\n",
              "    <tr>\n",
              "      <th>Wed</th>\n",
              "      <td>784</td>\n",
              "      <td>400</td>\n",
              "      <td>324</td>\n",
              "      <td>108</td>\n",
              "      <td>108</td>\n",
              "      <td>564</td>\n",
              "      <td>1824</td>\n",
              "      <td>5784</td>\n",
              "      <td>15432</td>\n",
              "      <td>10244</td>\n",
              "      <td>4544</td>\n",
              "      <td>4232</td>\n",
              "      <td>5152</td>\n",
              "      <td>4872</td>\n",
              "      <td>4552</td>\n",
              "      <td>5616</td>\n",
              "      <td>11220</td>\n",
              "      <td>17592</td>\n",
              "      <td>12096</td>\n",
              "      <td>6724</td>\n",
              "      <td>4892</td>\n",
              "      <td>4088</td>\n",
              "      <td>2780</td>\n",
              "      <td>1492</td>\n",
              "    </tr>\n",
              "  </tbody>\n",
              "</table>\n",
              "</div>"
            ],
            "text/plain": [
              "hour_start     0.0   1.0   2.0   3.0   4.0   ...  19.0  20.0  21.0  22.0  23.0\n",
              "weekday_start                                ...                              \n",
              "Fri             852   468   328   188   176  ...  5512  3512  2892  2360  1680\n",
              "Mon             616   356   252   168   180  ...  5200  3812  2632  1900  1180\n",
              "Sat            1336  1104   784   392   152  ...  3628  2716  2336  1924  1492\n",
              "Sun            1136  1024   604   380   172  ...  3204  2312  1832  1528  1084\n",
              "Thu             868   424   316    80   104  ...  6068  4844  3388  2428  1616\n",
              "Tue             512   256   200    76    60  ...  6700  4784  4172  2664  1520\n",
              "Wed             784   400   324   108   108  ...  6724  4892  4088  2780  1492\n",
              "\n",
              "[7 rows x 24 columns]"
            ]
          },
          "metadata": {
            "tags": []
          },
          "execution_count": 227
        }
      ]
    },
    {
      "cell_type": "code",
      "metadata": {
        "id": "3Vbcsoxw-pnn",
        "outputId": "81158d59-193c-4927-a39a-df5e57c28bdf",
        "colab": {
          "base_uri": "https://localhost:8080/",
          "height": 405
        }
      },
      "source": [
        "plt.figure(figsize=(12,6))\n",
        "sns.heatmap(aktivitas_harian1, cmap='Spectral')"
      ],
      "execution_count": 228,
      "outputs": [
        {
          "output_type": "execute_result",
          "data": {
            "text/plain": [
              "<matplotlib.axes._subplots.AxesSubplot at 0x7f0cb49a1ac8>"
            ]
          },
          "metadata": {
            "tags": []
          },
          "execution_count": 228
        },
        {
          "output_type": "display_data",
          "data": {
            "image/png": "[encoded data removed]",
            "text/plain": [
              "<Figure size 864x432 with 2 Axes>"
            ]
          },
          "metadata": {
            "tags": []
          }
        }
      ]
    },
    {
      "cell_type": "code",
      "metadata": {
        "id": "8HIBjeVJ-98Q"
      },
      "source": [
        ""
      ],
      "execution_count": null,
      "outputs": []
    }
  ]
}