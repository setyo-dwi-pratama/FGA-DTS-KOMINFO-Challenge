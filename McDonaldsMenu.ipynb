{
  "nbformat": 4,
  "nbformat_minor": 0,
  "metadata": {
    "colab": {
      "name": "McDonaldsMenu.ipynb",
      "provenance": [],
      "authorship_tag": "ABX9TyPnhWih3VsT7C1Zu86DRZ2X",
      "include_colab_link": true
    },
    "kernelspec": {
      "name": "python3",
      "display_name": "Python 3"
    },
    "accelerator": "GPU"
  },
  "cells": [
    {
      "cell_type": "markdown",
      "metadata": {
        "id": "view-in-github",
        "colab_type": "text"
      },
      "source": [
        "<a href=\"https://colab.research.google.com/github/setyo-dwi-pratama/FGA-DTS-KOMINFO-Challenge/blob/main/McDonaldsMenu.ipynb\" target=\"_parent\"><img src=\"https://colab.research.google.com/assets/colab-badge.svg\" alt=\"Open In Colab\"/></a>"
      ]
    },
    {
      "cell_type": "code",
      "metadata": {
        "id": "nHU_j6VmdLB_"
      },
      "source": [
        "import pandas as pd\n",
        "import numpy as np\n",
        "import matplotlib.pyplot as plt\n",
        "import seaborn as sns"
      ],
      "execution_count": null,
      "outputs": []
    },
    {
      "cell_type": "code",
      "metadata": {
        "id": "zXX8p1kSfNCr",
        "outputId": "9dfeb2e7-b8cd-4bab-c059-441661afe7cf",
        "colab": {
          "base_uri": "https://localhost:8080/",
          "height": 443
        }
      },
      "source": [
        "df = pd.read_csv(\"https://raw.githubusercontent.com/setyo-dwi-pratama/FGA-DTS-KOMINFO-Challenge/main/menu.csv\")\n",
        "df.head()"
      ],
      "execution_count": null,
      "outputs": [
        {
          "output_type": "execute_result",
          "data": {
            "text/html": [
              "<div>\n",
              "<style scoped>\n",
              "    .dataframe tbody tr th:only-of-type {\n",
              "        vertical-align: middle;\n",
              "    }\n",
              "\n",
              "    .dataframe tbody tr th {\n",
              "        vertical-align: top;\n",
              "    }\n",
              "\n",
              "    .dataframe thead th {\n",
              "        text-align: right;\n",
              "    }\n",
              "</style>\n",
              "<table border=\"1\" class=\"dataframe\">\n",
              "  <thead>\n",
              "    <tr style=\"text-align: right;\">\n",
              "      <th></th>\n",
              "      <th>Category</th>\n",
              "      <th>Item</th>\n",
              "      <th>Serving Size</th>\n",
              "      <th>Calories</th>\n",
              "      <th>Calories from Fat</th>\n",
              "      <th>Total Fat</th>\n",
              "      <th>Total Fat (% Daily Value)</th>\n",
              "      <th>Saturated Fat</th>\n",
              "      <th>Saturated Fat (% Daily Value)</th>\n",
              "      <th>Trans Fat</th>\n",
              "      <th>Cholesterol</th>\n",
              "      <th>Cholesterol (% Daily Value)</th>\n",
              "      <th>Sodium</th>\n",
              "      <th>Sodium (% Daily Value)</th>\n",
              "      <th>Carbohydrates</th>\n",
              "      <th>Carbohydrates (% Daily Value)</th>\n",
              "      <th>Dietary Fiber</th>\n",
              "      <th>Dietary Fiber (% Daily Value)</th>\n",
              "      <th>Sugars</th>\n",
              "      <th>Protein</th>\n",
              "      <th>Vitamin A (% Daily Value)</th>\n",
              "      <th>Vitamin C (% Daily Value)</th>\n",
              "      <th>Calcium (% Daily Value)</th>\n",
              "      <th>Iron (% Daily Value)</th>\n",
              "    </tr>\n",
              "  </thead>\n",
              "  <tbody>\n",
              "    <tr>\n",
              "      <th>0</th>\n",
              "      <td>Breakfast</td>\n",
              "      <td>Egg McMuffin</td>\n",
              "      <td>4.8 oz (136 g)</td>\n",
              "      <td>300</td>\n",
              "      <td>120</td>\n",
              "      <td>13.0</td>\n",
              "      <td>20</td>\n",
              "      <td>5.0</td>\n",
              "      <td>25</td>\n",
              "      <td>0.0</td>\n",
              "      <td>260</td>\n",
              "      <td>87</td>\n",
              "      <td>750</td>\n",
              "      <td>31</td>\n",
              "      <td>31</td>\n",
              "      <td>10</td>\n",
              "      <td>4</td>\n",
              "      <td>17</td>\n",
              "      <td>3</td>\n",
              "      <td>17</td>\n",
              "      <td>10</td>\n",
              "      <td>0</td>\n",
              "      <td>25</td>\n",
              "      <td>15</td>\n",
              "    </tr>\n",
              "    <tr>\n",
              "      <th>1</th>\n",
              "      <td>Breakfast</td>\n",
              "      <td>Egg White Delight</td>\n",
              "      <td>4.8 oz (135 g)</td>\n",
              "      <td>250</td>\n",
              "      <td>70</td>\n",
              "      <td>8.0</td>\n",
              "      <td>12</td>\n",
              "      <td>3.0</td>\n",
              "      <td>15</td>\n",
              "      <td>0.0</td>\n",
              "      <td>25</td>\n",
              "      <td>8</td>\n",
              "      <td>770</td>\n",
              "      <td>32</td>\n",
              "      <td>30</td>\n",
              "      <td>10</td>\n",
              "      <td>4</td>\n",
              "      <td>17</td>\n",
              "      <td>3</td>\n",
              "      <td>18</td>\n",
              "      <td>6</td>\n",
              "      <td>0</td>\n",
              "      <td>25</td>\n",
              "      <td>8</td>\n",
              "    </tr>\n",
              "    <tr>\n",
              "      <th>2</th>\n",
              "      <td>Breakfast</td>\n",
              "      <td>Sausage McMuffin</td>\n",
              "      <td>3.9 oz (111 g)</td>\n",
              "      <td>370</td>\n",
              "      <td>200</td>\n",
              "      <td>23.0</td>\n",
              "      <td>35</td>\n",
              "      <td>8.0</td>\n",
              "      <td>42</td>\n",
              "      <td>0.0</td>\n",
              "      <td>45</td>\n",
              "      <td>15</td>\n",
              "      <td>780</td>\n",
              "      <td>33</td>\n",
              "      <td>29</td>\n",
              "      <td>10</td>\n",
              "      <td>4</td>\n",
              "      <td>17</td>\n",
              "      <td>2</td>\n",
              "      <td>14</td>\n",
              "      <td>8</td>\n",
              "      <td>0</td>\n",
              "      <td>25</td>\n",
              "      <td>10</td>\n",
              "    </tr>\n",
              "    <tr>\n",
              "      <th>3</th>\n",
              "      <td>Breakfast</td>\n",
              "      <td>Sausage McMuffin with Egg</td>\n",
              "      <td>5.7 oz (161 g)</td>\n",
              "      <td>450</td>\n",
              "      <td>250</td>\n",
              "      <td>28.0</td>\n",
              "      <td>43</td>\n",
              "      <td>10.0</td>\n",
              "      <td>52</td>\n",
              "      <td>0.0</td>\n",
              "      <td>285</td>\n",
              "      <td>95</td>\n",
              "      <td>860</td>\n",
              "      <td>36</td>\n",
              "      <td>30</td>\n",
              "      <td>10</td>\n",
              "      <td>4</td>\n",
              "      <td>17</td>\n",
              "      <td>2</td>\n",
              "      <td>21</td>\n",
              "      <td>15</td>\n",
              "      <td>0</td>\n",
              "      <td>30</td>\n",
              "      <td>15</td>\n",
              "    </tr>\n",
              "    <tr>\n",
              "      <th>4</th>\n",
              "      <td>Breakfast</td>\n",
              "      <td>Sausage McMuffin with Egg Whites</td>\n",
              "      <td>5.7 oz (161 g)</td>\n",
              "      <td>400</td>\n",
              "      <td>210</td>\n",
              "      <td>23.0</td>\n",
              "      <td>35</td>\n",
              "      <td>8.0</td>\n",
              "      <td>42</td>\n",
              "      <td>0.0</td>\n",
              "      <td>50</td>\n",
              "      <td>16</td>\n",
              "      <td>880</td>\n",
              "      <td>37</td>\n",
              "      <td>30</td>\n",
              "      <td>10</td>\n",
              "      <td>4</td>\n",
              "      <td>17</td>\n",
              "      <td>2</td>\n",
              "      <td>21</td>\n",
              "      <td>6</td>\n",
              "      <td>0</td>\n",
              "      <td>25</td>\n",
              "      <td>10</td>\n",
              "    </tr>\n",
              "  </tbody>\n",
              "</table>\n",
              "</div>"
            ],
            "text/plain": [
              "    Category  ... Iron (% Daily Value)\n",
              "0  Breakfast  ...                   15\n",
              "1  Breakfast  ...                    8\n",
              "2  Breakfast  ...                   10\n",
              "3  Breakfast  ...                   15\n",
              "4  Breakfast  ...                   10\n",
              "\n",
              "[5 rows x 24 columns]"
            ]
          },
          "metadata": {
            "tags": []
          },
          "execution_count": 2
        }
      ]
    },
    {
      "cell_type": "code",
      "metadata": {
        "id": "QYBDVOs7f6MK",
        "outputId": "6a3f2ddb-f60f-4344-8506-a0928724092b",
        "colab": {
          "base_uri": "https://localhost:8080/",
          "height": 581
        }
      },
      "source": [
        "df.info()"
      ],
      "execution_count": null,
      "outputs": [
        {
          "output_type": "stream",
          "text": [
            "<class 'pandas.core.frame.DataFrame'>\n",
            "RangeIndex: 260 entries, 0 to 259\n",
            "Data columns (total 24 columns):\n",
            " #   Column                         Non-Null Count  Dtype  \n",
            "---  ------                         --------------  -----  \n",
            " 0   Category                       260 non-null    object \n",
            " 1   Item                           260 non-null    object \n",
            " 2   Serving Size                   260 non-null    object \n",
            " 3   Calories                       260 non-null    int64  \n",
            " 4   Calories from Fat              260 non-null    int64  \n",
            " 5   Total Fat                      260 non-null    float64\n",
            " 6   Total Fat (% Daily Value)      260 non-null    int64  \n",
            " 7   Saturated Fat                  260 non-null    float64\n",
            " 8   Saturated Fat (% Daily Value)  260 non-null    int64  \n",
            " 9   Trans Fat                      260 non-null    float64\n",
            " 10  Cholesterol                    260 non-null    int64  \n",
            " 11  Cholesterol (% Daily Value)    260 non-null    int64  \n",
            " 12  Sodium                         260 non-null    int64  \n",
            " 13  Sodium (% Daily Value)         260 non-null    int64  \n",
            " 14  Carbohydrates                  260 non-null    int64  \n",
            " 15  Carbohydrates (% Daily Value)  260 non-null    int64  \n",
            " 16  Dietary Fiber                  260 non-null    int64  \n",
            " 17  Dietary Fiber (% Daily Value)  260 non-null    int64  \n",
            " 18  Sugars                         260 non-null    int64  \n",
            " 19  Protein                        260 non-null    int64  \n",
            " 20  Vitamin A (% Daily Value)      260 non-null    int64  \n",
            " 21  Vitamin C (% Daily Value)      260 non-null    int64  \n",
            " 22  Calcium (% Daily Value)        260 non-null    int64  \n",
            " 23  Iron (% Daily Value)           260 non-null    int64  \n",
            "dtypes: float64(3), int64(18), object(3)\n",
            "memory usage: 48.9+ KB\n"
          ],
          "name": "stdout"
        }
      ]
    },
    {
      "cell_type": "code",
      "metadata": {
        "id": "6AEIWdRRglAv",
        "outputId": "3bf9a3a1-1c10-406d-dc0a-e2a9a145f253",
        "colab": {
          "base_uri": "https://localhost:8080/",
          "height": 472
        }
      },
      "source": [
        "df.isnull().sum()"
      ],
      "execution_count": null,
      "outputs": [
        {
          "output_type": "execute_result",
          "data": {
            "text/plain": [
              "Category                         0\n",
              "Item                             0\n",
              "Serving Size                     0\n",
              "Calories                         0\n",
              "Calories from Fat                0\n",
              "Total Fat                        0\n",
              "Total Fat (% Daily Value)        0\n",
              "Saturated Fat                    0\n",
              "Saturated Fat (% Daily Value)    0\n",
              "Trans Fat                        0\n",
              "Cholesterol                      0\n",
              "Cholesterol (% Daily Value)      0\n",
              "Sodium                           0\n",
              "Sodium (% Daily Value)           0\n",
              "Carbohydrates                    0\n",
              "Carbohydrates (% Daily Value)    0\n",
              "Dietary Fiber                    0\n",
              "Dietary Fiber (% Daily Value)    0\n",
              "Sugars                           0\n",
              "Protein                          0\n",
              "Vitamin A (% Daily Value)        0\n",
              "Vitamin C (% Daily Value)        0\n",
              "Calcium (% Daily Value)          0\n",
              "Iron (% Daily Value)             0\n",
              "dtype: int64"
            ]
          },
          "metadata": {
            "tags": []
          },
          "execution_count": 5
        }
      ]
    },
    {
      "cell_type": "code",
      "metadata": {
        "id": "ORSVA9WliTlC",
        "outputId": "d28ff20f-1e96-49ec-d8a9-34dac6ea3831",
        "colab": {
          "base_uri": "https://localhost:8080/",
          "height": 412
        }
      },
      "source": [
        "sns.heatmap(df.isnull())\n",
        "plt.show()"
      ],
      "execution_count": null,
      "outputs": [
        {
          "output_type": "display_data",
          "data": {
            "image/png": "[encoded data removed]",
            "text/plain": [
              "<Figure size 432x288 with 2 Axes>"
            ]
          },
          "metadata": {
            "tags": [],
            "needs_background": "light"
          }
        }
      ]
    },
    {
      "cell_type": "code",
      "metadata": {
        "id": "cSqUFC3Mm3Z6",
        "outputId": "0bf51595-a908-439e-c4c4-e6c993f6d355",
        "colab": {
          "base_uri": "https://localhost:8080/",
          "height": 199
        }
      },
      "source": [
        "df['Category'].value_counts()"
      ],
      "execution_count": null,
      "outputs": [
        {
          "output_type": "execute_result",
          "data": {
            "text/plain": [
              "Coffee & Tea          95\n",
              "Breakfast             42\n",
              "Smoothies & Shakes    28\n",
              "Beverages             27\n",
              "Chicken & Fish        27\n",
              "Beef & Pork           15\n",
              "Snacks & Sides        13\n",
              "Desserts               7\n",
              "Salads                 6\n",
              "Name: Category, dtype: int64"
            ]
          },
          "metadata": {
            "tags": []
          },
          "execution_count": 8
        }
      ]
    },
    {
      "cell_type": "code",
      "metadata": {
        "id": "1LG3cOgRnhw8",
        "outputId": "39d67778-3c25-4832-9609-7bd789fc23b8",
        "colab": {
          "base_uri": "https://localhost:8080/",
          "height": 266
        }
      },
      "source": [
        "df['Category'].value_counts().plot.pie(autopct='%.0f%%')"
      ],
      "execution_count": null,
      "outputs": [
        {
          "output_type": "execute_result",
          "data": {
            "text/plain": [
              "<matplotlib.axes._subplots.AxesSubplot at 0x7fc6e7b992e8>"
            ]
          },
          "metadata": {
            "tags": []
          },
          "execution_count": 13
        },
        {
          "output_type": "display_data",
          "data": {
            "image/png": "[encoded data removed]",
            "text/plain": [
              "<Figure size 432x288 with 1 Axes>"
            ]
          },
          "metadata": {
            "tags": []
          }
        }
      ]
    },
    {
      "cell_type": "code",
      "metadata": {
        "id": "HwF-xJPinuaz"
      },
      "source": [
        ""
      ],
      "execution_count": null,
      "outputs": []
    }
  ]
}